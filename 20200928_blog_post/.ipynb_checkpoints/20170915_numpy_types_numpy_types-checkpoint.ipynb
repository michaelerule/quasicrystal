{
 "cells": [
  {
   "cell_type": "markdown",
   "metadata": {},
   "source": [
    "# Numpy scalar types cheat-sheet\n",
    "\n",
    "[Numpy scalar-types](https://numpy.org/doc/stable/reference/arrays.scalars.html#arrays-scalars-built-in) cheat-sheet on Linux x86-64.\n",
    "\n",
    "### TL;DR\n",
    "\n",
    "- (`BHIL`)`bhil`: `(u)int-8,16,32,64`\n",
    "- `efdg`: `float-16,32,64,80`\n",
    "- `FDG`: `complex 2×(32,64,80)`\n",
    "- `?`: boolean\n",
    "- `S#`/`U#`: Length-`#` byte/unicode strings\n",
    "- On Intel x86-64 the singned/unsigned pointer-length types `intp` `p` / `uintp` `P` are `int64` / `uint64`, as are `longlong` `q` / `ulonglong` `Q`.\n",
    "- All types are little-endian `<` by default (prefix `>` to specify big-endian)\n",
    "- Types can be suffixed by an integer to specify vector-types"
   ]
  },
  {
   "cell_type": "markdown",
   "metadata": {},
   "source": [
    "### Memorize: \n",
    "\n",
    "You have unisgned **B**ytes, s**H**orts, **I**integers, and **L**ongs (lower-case **bhil** for signed); There's **f**loats, **d**oubles, and **g**iant-floats (half-floats **e** come b**e**fore **f** and are great for saving data). The upper-case **FEG** are complex types (twice as big). Booleans **?** what? Byte **S**trings and **U**nicode strings are useful. You may see dateti**M**e64 and ti**m**edelta in dataframes. Use **o**bject when you can't be bothered with typing, and don't worry about **V**oid. "
   ]
  },
  {
   "cell_type": "markdown",
   "metadata": {},
   "source": [
    "### Type aliases\n",
    "\n",
    "- `int8` `byte` `b` \n",
    "- `int16` `short` `h`\n",
    "- `int32` `intc` `i` \n",
    "- `int64` `int_` `l` \n",
    "- `uint8` `ubyte` `B`\n",
    "- `uint16` `ushort` `H`\n",
    "- `uint32` `uintc` `I`\n",
    "- `uint64` `uint` `L`\n",
    "- `float16` `half` `e`\n",
    "- `float32` `single` `f`\n",
    "- `float64` `float_` `double` `d`\n",
    "- `float128` `longfloat` `longdouble` `g` (actually 80 bit)\n",
    "- `complex64` `csingle` `singlecomplex` `F`\n",
    "- `complex128` `complex_` `cfloat` `cdouble` `D`\n",
    "- `complex256` `clongdouble` `longcomplex` `clongfloat` `G` (actually 2×80 bit)\n",
    "- `bool8` `bool_` `?`\n",
    "- `datetime64` `M`\n",
    "- `timedelta64` `m`\n",
    "- `object_` `o`\n",
    "- `string_` `bytes_` `S`\n",
    "- `unicode_` `str_` `U`\n",
    "- `void` `V'`\n",
    "\n",
    "- `ulonglong` `Q` is `uint64`\n",
    "- `longlong` `q` is `int64`\n",
    "- `intp` `p` is `int64`\n",
    "- `uintp` `P` is `uint64`"
   ]
  }
 ],
 "metadata": {
  "kernelspec": {
   "display_name": "Python 3 (ipykernel)",
   "language": "python",
   "name": "python3"
  },
  "language_info": {
   "codemirror_mode": {
    "name": "ipython",
    "version": 3
   },
   "file_extension": ".py",
   "mimetype": "text/x-python",
   "name": "python",
   "nbconvert_exporter": "python",
   "pygments_lexer": "ipython3",
   "version": "3.8.10"
  }
 },
 "nbformat": 4,
 "nbformat_minor": 4
}
