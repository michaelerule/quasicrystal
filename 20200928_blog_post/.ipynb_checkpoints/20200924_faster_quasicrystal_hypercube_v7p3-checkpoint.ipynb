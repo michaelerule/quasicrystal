{
 "cells": [
  {
   "cell_type": "code",
   "execution_count": 19,
   "metadata": {},
   "outputs": [
    {
     "data": {
      "text/plain": [
       "(-51140, -62294, -56756, -36010, -5616, 26283)"
      ]
     },
     "execution_count": 19,
     "metadata": {},
     "output_type": "execute_result"
    }
   ],
   "source": [
    "seed"
   ]
  },
  {
   "cell_type": "code",
   "execution_count": 26,
   "metadata": {},
   "outputs": [
    {
     "data": {
      "text/plain": [
       "array([-1893027954093602522, -3356746810793673257,  -834736429759803946,\n",
       "        2930073663456913910, -1618524444450322192, -3215729758578146087])"
      ]
     },
     "execution_count": 26,
     "metadata": {},
     "output_type": "execute_result"
    }
   ],
   "source": []
  },
  {
   "cell_type": "code",
   "execution_count": 31,
   "metadata": {},
   "outputs": [
    {
     "name": "stdout",
     "output_type": "stream",
     "text": [
      "seed: (-2046627695633831936, 129995632921546240, 2271786736616024064, 3804854418858500096, 4318414432249853952, 3674858785936954368)\n",
      "iteration 29/30                     \n"
     ]
    },
    {
     "ename": "ValueError",
     "evalue": "matmul: Input operand 1 has a mismatch in its core dimension 0, with gufunc signature (n?,k),(k,m?)->(n?,m?) (size 0 is different from 6)",
     "output_type": "error",
     "traceback": [
      "\u001b[0;31m---------------------------------------------------------------------------\u001b[0m",
      "\u001b[0;31mValueError\u001b[0m                                Traceback (most recent call last)",
      "Input \u001b[0;32mIn [31]\u001b[0m, in \u001b[0;36m<cell line: 106>\u001b[0;34m()\u001b[0m\n\u001b[1;32m    103\u001b[0m \u001b[38;5;28mprint\u001b[39m(\u001b[38;5;124m'\u001b[39m\u001b[38;5;124m'\u001b[39m)\n\u001b[1;32m    105\u001b[0m figure(figsize\u001b[38;5;241m=\u001b[39m(\u001b[38;5;241m10\u001b[39m,\u001b[38;5;241m10\u001b[39m))\n\u001b[0;32m--> 106\u001b[0m \u001b[43mplotpoints\u001b[49m\u001b[43m(\u001b[49m\u001b[43marray\u001b[49m\u001b[43m(\u001b[49m\u001b[38;5;28;43mlist\u001b[39;49m\u001b[43m(\u001b[49m\u001b[43mallQ\u001b[49m\u001b[43m)\u001b[49m\u001b[43m)\u001b[49m\u001b[38;5;241;43m.\u001b[39;49m\u001b[43mT\u001b[49m\u001b[43m)\u001b[49m\n",
      "Input \u001b[0;32mIn [31]\u001b[0m, in \u001b[0;36mplotpoints\u001b[0;34m(p)\u001b[0m\n\u001b[1;32m     11\u001b[0m \u001b[38;5;28;01mdef\u001b[39;00m \u001b[38;5;21mplotpoints\u001b[39m(p):\n\u001b[0;32m---> 12\u001b[0m     u  \u001b[38;5;241m=\u001b[39m \u001b[43mAi\u001b[49m\u001b[38;5;241;43m.\u001b[39;49m\u001b[43mT\u001b[49m\u001b[38;5;129;43m@p\u001b[39;49m\n\u001b[1;32m     13\u001b[0m     D  \u001b[38;5;241m=\u001b[39m squareform(pdist(p\u001b[38;5;241m.\u001b[39mT))\n\u001b[1;32m     14\u001b[0m     e  \u001b[38;5;241m=\u001b[39m {\u001b[38;5;28mtuple\u001b[39m(\u001b[38;5;28msorted\u001b[39m(e)) \u001b[38;5;28;01mfor\u001b[39;00m e \u001b[38;5;129;01min\u001b[39;00m \u001b[38;5;28mzip\u001b[39m(\u001b[38;5;241m*\u001b[39mwhere(\u001b[38;5;28mabs\u001b[39m(D\u001b[38;5;241m-\u001b[39m\u001b[38;5;241m1\u001b[39m)\u001b[38;5;241m<\u001b[39m\u001b[38;5;241m1e-6\u001b[39m))}\n",
      "\u001b[0;31mValueError\u001b[0m: matmul: Input operand 1 has a mismatch in its core dimension 0, with gufunc signature (n?,k),(k,m?)->(n?,m?) (size 0 is different from 6)"
     ]
    },
    {
     "data": {
      "text/plain": [
       "<Figure size 720x720 with 0 Axes>"
      ]
     },
     "metadata": {},
     "output_type": "display_data"
    }
   ],
   "source": [
    "from scipy.spatial.distance import squareform, pdist\n",
    "from pylab import *\n",
    "from numpy import * \n",
    "\n",
    "N  = 6                     # Dimension of crystal\n",
    "Ndepth = 30                 # Number of search iterations\n",
    "θ  = linspace(0,pi,N+1)[1:] # Arrange basis vectors evenly on [0,π)\n",
    "A  = array([cos(θ),sin(θ)]) # Convert from complex notation\n",
    "Ai = pinv(A)\n",
    "\n",
    "def plotpoints(p):\n",
    "    u  = Ai.T@p\n",
    "    D  = squareform(pdist(p.T))\n",
    "    e  = {tuple(sorted(e)) for e in zip(*where(abs(D-1)<1e-6))}\n",
    "    xy = concatenate([[u[:,a],u[:,b],[NaN,NaN]] for a,b in e])\n",
    "    plot(*xy.T,lw=0.5,color='k')\n",
    "    tight_layout()\n",
    "    axis(\"equal\")\n",
    "    axis(\"off\")\n",
    "\n",
    "# Directions in which to search\n",
    "D = int64(concatenate([eye(N),-eye(N)])) \n",
    "\n",
    "# Matrix to rotate a lattice point π/N in 2D plane\n",
    "S = zeros((N,N))\n",
    "S[ -1,0 ] = -1\n",
    "S[:-1,1:] = eye(N-1)\n",
    "\n",
    "# Generic caching intersection check function\n",
    "# Map all points to first quadrant and memoize\n",
    "def cached_crystal_checker(check):\n",
    "    # Cache results to save time (memoization)\n",
    "    cache = {}\n",
    "    def f(q):\n",
    "        # Convert test point to immutable tuple for cache key\n",
    "        k = tuple(int64(q)) \n",
    "        if not k in cache:\n",
    "            # Recompute intersection test if not in cache\n",
    "            # Use symmetry: reduce tests to points in 1st sector\n",
    "            h = angle([1,1j]@A@q)\n",
    "            cache[k]=check(q) if 0<=h<=(pi/N*1.1) else f(S@q)\n",
    "        return cache[k]\n",
    "    f.__cache__ = cache\n",
    "    return f\n",
    "\n",
    "# Get slopes and spacing of boundary lines\n",
    "m = 1/tan(θ[:-1])\n",
    "d = 1/sin(θ[:-1])\n",
    "\n",
    "@cached_crystal_checker\n",
    "def intersects_cut(p,eps=1e-1,maxiter=1000):\n",
    "    p = int64(p)\n",
    "    # Evaluate upper/lower bounds\n",
    "    lp,up = p[:-1]-0.5, p[:-1]+0.5\n",
    "    def feasibility_surface(p,x):\n",
    "        u,l = x*m+up*d, x*m+lp*d\n",
    "        y   = np.max(l)-np.min(u)\n",
    "        dy  = m[np.argmax(l)]-m[np.argmin(u)]\n",
    "        return y,dy\n",
    "    # Initial bounds and feasability checks\n",
    "    # If either bound satisfies, success\n",
    "    # If better point not in bounds, fail\n",
    "    x0,x1  = p[-1]-0.5, p[-1]+0.5\n",
    "    y0,dy0 = feasibility_surface(p,x0)\n",
    "    y1,dy1 = feasibility_surface(p,x1)\n",
    "    if y0 < 0 or y1 < 0: return True\n",
    "    if dy0>=0 or dy1<=0: return False\n",
    "    for i in range(maxiter):\n",
    "        # Guess min by following slope at bounds\n",
    "        xm = (y1-y0-dy1*x1+dy0*x0)/(dy0-dy1)\n",
    "        assert xm>=x0-eps\n",
    "        assert xm<=x1+eps\n",
    "        # Midpoint works? still feasible? \n",
    "        ym,dym = feasibility_surface(p,xm)\n",
    "        if ym<0:   return True\n",
    "        if dym==0: return False\n",
    "        # Binary search: move inward if not done\n",
    "        if dym<0:\n",
    "            # If better point not in bounds, fail\n",
    "            if dym>=0 or abs(x0-xm)<eps: return False\n",
    "            x0,y0,dy0 = xm,ym,dym\n",
    "        else:\n",
    "            if dym<=0 or abs(x1-xm)<eps: return False\n",
    "            x1,y1,dy1 = xm,ym,dym\n",
    "    # Should have returned succes/fail before getting here\n",
    "    raise RuntimeError(\"Maximum iterations exceeded: p=%s\"%p)\n",
    "    \n",
    "# Random seed to nucleate crystal\n",
    "# Set to zero to get a symmetric version\n",
    "#seed = tuple(int64(Ai@(100000*random.randn(2))))\n",
    "seed = randint(-2**31,2**31,N)\n",
    "seed = tuple(int64(Ai@A@randint(-2**63,2**63,N)))\n",
    "print('seed:',seed)\n",
    "    \n",
    "# Start with a seed point at zero and build outwards\n",
    "# Iteratively search in each direction to add points\n",
    "Q = {seed}\n",
    "allQ = set() \n",
    "for i in range(Ndepth):\n",
    "    Q = {tuple(q) for p in Q for q in D+p if intersects_cut(q)}-allQ\n",
    "    allQ |= Q\n",
    "    print('\\riteration %d/%d'%(i,Ndepth),' '*20,end='',flush=True)\n",
    "print('')\n",
    "\n",
    "figure(figsize=(10,10))\n",
    "plotpoints(array(list(allQ)).T)"
   ]
  },
  {
   "cell_type": "code",
   "execution_count": 34,
   "metadata": {},
   "outputs": [
    {
     "data": {
      "text/plain": [
       "(-2046627695633831936,\n",
       " 129995632921546240,\n",
       " 2271786736616024064,\n",
       " 3804854418858500096,\n",
       " 4318414432249853952,\n",
       " 3674858785936954368)"
      ]
     },
     "execution_count": 34,
     "metadata": {},
     "output_type": "execute_result"
    }
   ],
   "source": [
    "searching = {seed}\n",
    "found = None\n",
    "for i in range(5):\n",
    "    for p in searching: \n",
    "        for q in D+seed:\n",
    "            if intersects_cut(q):\n",
    "                found = q\n",
    "                break\n",
    "print found"
   ]
  },
  {
   "cell_type": "code",
   "execution_count": null,
   "metadata": {},
   "outputs": [],
   "source": [
    "tuple(q) for p in Q for q in D+seed"
   ]
  },
  {
   "cell_type": "code",
   "execution_count": 33,
   "metadata": {},
   "outputs": [
    {
     "data": {
      "text/plain": [
       "array([[ 1,  0,  0,  0,  0,  0],\n",
       "       [ 0,  1,  0,  0,  0,  0],\n",
       "       [ 0,  0,  1,  0,  0,  0],\n",
       "       [ 0,  0,  0,  1,  0,  0],\n",
       "       [ 0,  0,  0,  0,  1,  0],\n",
       "       [ 0,  0,  0,  0,  0,  1],\n",
       "       [-1,  0,  0,  0,  0,  0],\n",
       "       [ 0, -1,  0,  0,  0,  0],\n",
       "       [ 0,  0, -1,  0,  0,  0],\n",
       "       [ 0,  0,  0, -1,  0,  0],\n",
       "       [ 0,  0,  0,  0, -1,  0],\n",
       "       [ 0,  0,  0,  0,  0, -1]])"
      ]
     },
     "execution_count": 33,
     "metadata": {},
     "output_type": "execute_result"
    }
   ],
   "source": [
    "D"
   ]
  },
  {
   "cell_type": "code",
   "execution_count": null,
   "metadata": {},
   "outputs": [],
   "source": []
  }
 ],
 "metadata": {
  "kernelspec": {
   "display_name": "Python 3 (ipykernel)",
   "language": "python",
   "name": "python3"
  },
  "language_info": {
   "codemirror_mode": {
    "name": "ipython",
    "version": 3
   },
   "file_extension": ".py",
   "mimetype": "text/x-python",
   "name": "python",
   "nbconvert_exporter": "python",
   "pygments_lexer": "ipython3",
   "version": "3.8.10"
  }
 },
 "nbformat": 4,
 "nbformat_minor": 4
}
