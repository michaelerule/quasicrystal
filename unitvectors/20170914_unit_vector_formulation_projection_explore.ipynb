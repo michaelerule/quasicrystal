{
 "cells": [
  {
   "cell_type": "markdown",
   "metadata": {},
   "source": [
    "### Test formation of quasicrystal by projection of high-dimentional unit cells"
   ]
  },
  {
   "cell_type": "code",
   "execution_count": 1,
   "metadata": {
    "scrolled": true
   },
   "outputs": [
    {
     "name": "stdout",
     "output_type": "stream",
     "text": [
      "Loading nlab namespace\n",
      "Could not locate the spectrum module, please install it\n",
      "Multitaper methods will not work\n",
      "Could not locate the spectrum module, please install it\n",
      "Multitaper methods will not work\n"
     ]
    }
   ],
   "source": [
    "%matplotlib inline\n",
    "from neurotools.nlab import *\n",
    "import sys\n",
    "import matplotlib.pyplot as plt\n",
    "import matplotlib.tri as tri\n",
    "import numpy as np\n",
    "import math"
   ]
  },
  {
   "cell_type": "code",
   "execution_count": 2,
   "metadata": {
    "collapsed": true
   },
   "outputs": [],
   "source": [
    "def showtri(pp):\n",
    "    pp = np.float64(pp)\n",
    "    if pp.shape[1]<3:\n",
    "        raise ValueError('Must have at least 3 points in 2 x N array')\n",
    "    # Create the Triangulation; no triangles so Delaunay triangulation created.\n",
    "    triang = tri.Triangulation(pp[0],pp[1])\n",
    "    # Plot the triangulation.\n",
    "    plt.figure(figsize=(15,15))\n",
    "    plt.gca().set_aspect('equal')\n",
    "    plt.triplot(triang, 'ko-', lw=0.5,markersize=0)\n",
    "    plt.title('triplot of Delaunay triangulation')\n",
    "    #xlim(-K*2,K*2)\n",
    "    #ylim(-K*2,K*2)"
   ]
  },
  {
   "cell_type": "code",
   "execution_count": 133,
   "metadata": {
    "scrolled": true
   },
   "outputs": [
    {
     "data": {
      "text/plain": [
       "array([[ 0.53452248,  0.48158812,  0.33326932,  0.11894244, -0.11894244,\n",
       "        -0.33326932, -0.48158812, -0.53452248, -0.48158812, -0.33326932,\n",
       "        -0.11894244,  0.11894244,  0.33326932,  0.48158812],\n",
       "       [ 0.0,  0.23192061,  0.41790651,  0.52112089,  0.52112089,\n",
       "         0.41790651,  0.23192061,  0.0, -0.23192061, -0.41790651,\n",
       "        -0.52112089, -0.52112089, -0.41790651, -0.23192061]], dtype=float128)"
      ]
     },
     "execution_count": 133,
     "metadata": {},
     "output_type": "execute_result"
    }
   ],
   "source": [
    "# Dimensionality\n",
    "M = 7\n",
    "# Raster scale \n",
    "K = 7\n",
    "# Raster resolution\n",
    "S = 5\n",
    "# Unit vectors; make explicit no using complex this time\n",
    "phases  = arange(M)*pi/M\n",
    "rescale = sqrt(2.0/M) # correction for non orthogonality\n",
    "units   = np.float128([cos(phases),sin(phases)])*rescale\n",
    "\n",
    "# Define the M-D basis\n",
    "basis = np.int32(np.eye(M))\n",
    "\n",
    "# Define units step vectors in all M dimensions\n",
    "steps = np.concatenate([basis,-basis]).T\n",
    "\n",
    "# Unit vectors in 2D for local neighborhood\n",
    "units2D = units.dot(steps)\n",
    "units2D"
   ]
  },
  {
   "cell_type": "markdown",
   "metadata": {},
   "source": [
    "### Check that hyperlattice basis is unitary"
   ]
  },
  {
   "cell_type": "code",
   "execution_count": 134,
   "metadata": {},
   "outputs": [
    {
     "data": {
      "text/plain": [
       "array([[ 1.0,  2.1148719e-17],\n",
       "       [ 2.1148719e-17,  1.0]], dtype=float128)"
      ]
     },
     "execution_count": 134,
     "metadata": {},
     "output_type": "execute_result"
    }
   ],
   "source": [
    "units.dot(units.T)"
   ]
  },
  {
   "cell_type": "code",
   "execution_count": 135,
   "metadata": {},
   "outputs": [
    {
     "data": {
      "text/plain": [
       "array([[ 0.28571429,  0.25741968,  0.17813994,  0.06357741, -0.06357741,\n",
       "        -0.17813994, -0.25741968],\n",
       "       [ 0.25741968,  0.28571429,  0.25741968,  0.17813994,  0.06357741,\n",
       "        -0.06357741, -0.17813994],\n",
       "       [ 0.17813994,  0.25741968,  0.28571429,  0.25741968,  0.17813994,\n",
       "         0.06357741, -0.06357741],\n",
       "       [ 0.06357741,  0.17813994,  0.25741968,  0.28571429,  0.25741968,\n",
       "         0.17813994,  0.06357741],\n",
       "       [-0.06357741,  0.06357741,  0.17813994,  0.25741968,  0.28571429,\n",
       "         0.25741968,  0.17813994],\n",
       "       [-0.17813994, -0.06357741,  0.06357741,  0.17813994,  0.25741968,\n",
       "         0.28571429,  0.25741968],\n",
       "       [-0.25741968, -0.17813994, -0.06357741,  0.06357741,  0.17813994,\n",
       "         0.25741968,  0.28571429]], dtype=float128)"
      ]
     },
     "execution_count": 135,
     "metadata": {},
     "output_type": "execute_result"
    }
   ],
   "source": [
    "units.T.dot(units)"
   ]
  },
  {
   "cell_type": "code",
   "execution_count": 136,
   "metadata": {},
   "outputs": [
    {
     "data": {
      "text/plain": [
       "<matplotlib.collections.PathCollection at 0x7f1c9f69c7f0>"
      ]
     },
     "execution_count": 136,
     "metadata": {},
     "output_type": "execute_result"
    },
    {
     "data": {
      "image/png": "[encoded data removed]",
      "text/plain": [
       "<matplotlib.figure.Figure at 0x7f1c9ff0efd0>"
      ]
     },
     "metadata": {},
     "output_type": "display_data"
    }
   ],
   "source": [
    "points = random.randn(2,10)*10\n",
    "scatter(*points,marker='x',s=340)\n",
    "\n",
    "projected = units.dot(units.T.dot(points))\n",
    "scatter(*projected,marker='+',s=340)\n",
    "\n",
    "quantized = units.dot(np.round(units.T.dot(points)))\n",
    "scatter(*quantized,marker='|',s=340,color='k')"
   ]
  },
  {
   "cell_type": "markdown",
   "metadata": {},
   "source": [
    "### Try distance to plane approach\n",
    "\n",
    "Hyperpoints within 1/2 sqrt(M) should be good?"
   ]
  },
  {
   "cell_type": "code",
   "execution_count": 137,
   "metadata": {
    "collapsed": true
   },
   "outputs": [],
   "source": [
    "def cartesian_product(*arrays):\n",
    "    '''\n",
    "    https://stackoverflow.com/questions/11144513/\n",
    "    numpy-cartesian-product-of-x-and-y-array-points-into-single-array-of-2d-points\n",
    "    '''\n",
    "    la = len(arrays)\n",
    "    dtype = numpy.result_type(*arrays)\n",
    "    arr = numpy.empty([len(a) for a in arrays] + [la], dtype=dtype)\n",
    "    for i, a in enumerate(numpy.ix_(*arrays)):\n",
    "        arr[...,i] = a\n",
    "    return arr.reshape(-1, la)"
   ]
  },
  {
   "cell_type": "code",
   "execution_count": 138,
   "metadata": {
    "scrolled": false
   },
   "outputs": [
    {
     "ename": "MemoryError",
     "evalue": "",
     "output_type": "error",
     "traceback": [
      "\u001b[1;31m---------------------------------------------------------------------------\u001b[0m",
      "\u001b[1;31mMemoryError\u001b[0m                               Traceback (most recent call last)",
      "\u001b[1;32m<ipython-input-138-c14dac35c8c8>\u001b[0m in \u001b[0;36m<module>\u001b[1;34m()\u001b[0m\n\u001b[0;32m      2\u001b[0m \u001b[0mpoints\u001b[0m \u001b[1;33m=\u001b[0m \u001b[0mcartesian_product\u001b[0m\u001b[1;33m(\u001b[0m\u001b[1;33m*\u001b[0m\u001b[1;33m(\u001b[0m\u001b[1;33m[\u001b[0m\u001b[0mr\u001b[0m\u001b[1;33m]\u001b[0m\u001b[1;33m*\u001b[0m\u001b[0mM\u001b[0m\u001b[1;33m)\u001b[0m\u001b[1;33m)\u001b[0m\u001b[1;33m\u001b[0m\u001b[0m\n\u001b[0;32m      3\u001b[0m \u001b[1;33m\u001b[0m\u001b[0m\n\u001b[1;32m----> 4\u001b[1;33m \u001b[0mdistance\u001b[0m \u001b[1;33m=\u001b[0m \u001b[0mabs\u001b[0m\u001b[1;33m(\u001b[0m\u001b[0msum\u001b[0m\u001b[1;33m(\u001b[0m\u001b[1;33m(\u001b[0m\u001b[0mpoints\u001b[0m\u001b[1;33m-\u001b[0m\u001b[0mpoints\u001b[0m\u001b[1;33m.\u001b[0m\u001b[0mdot\u001b[0m\u001b[1;33m(\u001b[0m\u001b[0munits\u001b[0m\u001b[1;33m.\u001b[0m\u001b[0mT\u001b[0m\u001b[1;33m)\u001b[0m\u001b[1;33m.\u001b[0m\u001b[0mdot\u001b[0m\u001b[1;33m(\u001b[0m\u001b[0munits\u001b[0m\u001b[1;33m)\u001b[0m\u001b[1;33m)\u001b[0m\u001b[1;33m**\u001b[0m\u001b[1;36m2\u001b[0m\u001b[1;33m,\u001b[0m\u001b[0maxis\u001b[0m\u001b[1;33m=\u001b[0m\u001b[1;36m1\u001b[0m\u001b[1;33m)\u001b[0m\u001b[1;33m)\u001b[0m\u001b[1;33m\u001b[0m\u001b[0m\n\u001b[0m\u001b[0;32m      5\u001b[0m \u001b[1;33m\u001b[0m\u001b[0m\n\u001b[0;32m      6\u001b[0m \u001b[0mhist\u001b[0m\u001b[1;33m(\u001b[0m\u001b[0mdistance\u001b[0m\u001b[1;33m,\u001b[0m\u001b[1;36m100\u001b[0m\u001b[1;33m)\u001b[0m\u001b[1;33m;\u001b[0m\u001b[1;33m\u001b[0m\u001b[0m\n",
      "\u001b[1;31mMemoryError\u001b[0m: "
     ]
    }
   ],
   "source": [
    "r = arange(-K,K+1)\n",
    "points = cartesian_product(*([r]*M))\n",
    "\n",
    "distance = abs(sum((points-points.dot(units.T).dot(units))**2,axis=1))\n",
    "\n",
    "hist(distance,100);\n",
    "pok = distance<M\n",
    "sum(pok)\n",
    "\n",
    "points = points[pok,:]\n",
    "points.shape\n",
    "\n",
    "p2d = units.dot(points.T)*rescale\n",
    "\n",
    "figure(figsize=(15,15))\n",
    "scatter(*p2d)\n",
    "force_aspect()\n",
    "showtri(p2d)"
   ]
  },
  {
   "cell_type": "code",
   "execution_count": null,
   "metadata": {
    "scrolled": false
   },
   "outputs": [],
   "source": [
    "pp = np.float64(p2d)\n",
    "if pp.shape[1]<3:\n",
    "    raise ValueError('Must have at least 3 points in 2 x N array')\n",
    "# Create the Triangulation; no triangles so Delaunay triangulation created.\n",
    "triang = tri.Triangulation(pp[0],pp[1])\n",
    "# Plot the triangulation.\n",
    "plt.figure(figsize=(15,15))\n",
    "plt.gca().set_aspect('equal')\n",
    "plt.triplot(triang, 'ko-', lw=0.5,markersize=0)\n",
    "plt.title('triplot of Delaunay triangulation')\n",
    "xlim(-K,K)\n",
    "ylim(-K,K)\n",
    "\n",
    "# Compute edge lengths of triangles\n",
    "xy = np.array([triang.x,triang.y])\n",
    "z = np.array(triang.x) + 1j*np.array(triang.y)\n",
    "tedgs = triang.triangles[:,[0,1,2,0]]\n",
    "tpts = z[tedgs]\n",
    "tedgelen = abs(diff(tpts,axis=1))\n",
    "elens = tedgelen.ravel()\n",
    "\n",
    "# Expected lengths of rhombus diagonals\n",
    "ph = phases[1:M//2+1]\n",
    "cp = cos(ph)\n",
    "sp = sin(ph)\n",
    "elen = sqrt(sp**2+(1-cp)**2)\n",
    "elen = np.append([1],elen) # add unit length\n",
    "\n",
    "# Determine edge length ID (identifies tri shape)\n",
    "near = abs(tedgelen[:,:,None]-elen[None,None,:])\n",
    "edgeid = argmin(near,axis=2)\n",
    "\n",
    "# Handle equilateral triangles specially\n",
    "unit = find(abs(elen-1)<1e-3)\n",
    "redund = unit!=0\n",
    "if any(redund):\n",
    "    replace = unit[redund]\n",
    "    for id in replace:\n",
    "        edgeid[edgeid==id] = 0\n",
    "\n",
    "# Ok?\n",
    "tok = sum(edgeid==0,axis=1)>=2\n",
    "category = sum(edgeid,axis=1)\n",
    "print('%0.2f%% triangles OK'%(100*mean(tok)))\n",
    "\n",
    "# Generate a color map for triangles\n",
    "cmapdata = neurotools.color.isolum_data\n",
    "cmapdata.shape,\n",
    "NC = (np.max(edgeid)+1)\n",
    "cmap = cmapdata[(arange(NC)*cmapdata.shape[0])//NC,:]"
   ]
  },
  {
   "cell_type": "code",
   "execution_count": null,
   "metadata": {
    "scrolled": false
   },
   "outputs": [],
   "source": [
    "hist(elens)"
   ]
  },
  {
   "cell_type": "code",
   "execution_count": null,
   "metadata": {
    "scrolled": true
   },
   "outputs": [],
   "source": [
    "tris = []\n",
    "lins = []\n",
    "\n",
    "njobs = len(tok)\n",
    "for index in find(tok):\n",
    "    t = triang.triangles[index]\n",
    "    c = category[index]\n",
    "    color = cmap[c%NC]\n",
    "    pp = np.array([triang.x[t],triang.y[t]]).T\n",
    "    p = plt.Polygon(pp,facecolor=color,edgecolor=color) ## PP is 3x2\n",
    "    tris.append(p)\n",
    "    if index%5==0:\n",
    "        sys.stdout.write('\\rTriangles prepared %0.1f%% '%((index+1)*100./njobs))\n",
    "        sys.stdout.flush()\n",
    "    \n",
    "ee = triang.edges\n",
    "ex = triang.x[ee]\n",
    "ey = triang.y[ee]\n",
    "dx = diff(ex,axis=1)\n",
    "dy = diff(ey,axis=1)\n",
    "dl = sqrt(dx*dx+dy*dy)\n",
    "eps = 1e-3\n",
    "unit = abs(dl-1)\n",
    "eok = unit<eps\n",
    "njobs = len(eok)\n",
    "for eindex in find(eok):\n",
    "    l = plt.Line2D(ex[eindex],ey[eindex],color='k',lw=0.9)\n",
    "    lins.append(l)\n",
    "    if eindex%5==0:\n",
    "        sys.stdout.write('\\rEdges prepared %0.1f%%        '%((eindex+1)*100./njobs))\n",
    "        sys.stdout.flush()"
   ]
  },
  {
   "cell_type": "code",
   "execution_count": null,
   "metadata": {
    "scrolled": false
   },
   "outputs": [],
   "source": [
    "fig = figure(figsize=(50,50))\n",
    "ax  = gca()    \n",
    "#xlim(lima,limb)\n",
    "#ylim(lima,limb)\n",
    "xlim(-K,K)\n",
    "ylim(-K,K)\n",
    "\n",
    "force_aspect()\n",
    "\n",
    "njobs = len(tok)\n",
    "for index,p in enumerate(tris):\n",
    "    ax.add_patch(p)\n",
    "    if index%5==0:\n",
    "        sys.stdout.write('\\rTriangles rendered %0.1f%% '%((index+1)*100./njobs))\n",
    "        sys.stdout.flush()\n",
    "\n",
    "njobs = len(eok)\n",
    "for eindex,l in enumerate(lins):\n",
    "    ax.add_line(l)\n",
    "    if eindex%5==0:\n",
    "        sys.stdout.write('\\rEdges rendered %0.1f%%        '%((eindex+1)*100./njobs))\n",
    "        sys.stdout.flush()\n",
    "\n",
    "sys.stdout.write('\\nShowing final result...\\n')\n",
    "sys.stdout.flush()\n",
    "plt.draw_all()"
   ]
  },
  {
   "cell_type": "code",
   "execution_count": null,
   "metadata": {
    "collapsed": true,
    "scrolled": false
   },
   "outputs": [],
   "source": []
  }
 ],
 "metadata": {
  "kernelspec": {
   "display_name": "Python 3",
   "language": "python",
   "name": "python3"
  },
  "language_info": {
   "codemirror_mode": {
    "name": "ipython",
    "version": 3
   },
   "file_extension": ".py",
   "mimetype": "text/x-python",
   "name": "python",
   "nbconvert_exporter": "python",
   "pygments_lexer": "ipython3",
   "version": "3.5.2"
  }
 },
 "nbformat": 4,
 "nbformat_minor": 2
}
