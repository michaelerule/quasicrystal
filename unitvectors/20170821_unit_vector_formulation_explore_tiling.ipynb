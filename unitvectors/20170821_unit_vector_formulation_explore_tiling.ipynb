{
 "cells": [
  {
   "cell_type": "markdown",
   "metadata": {},
   "source": [
    "# Test formation of quasicrystal by projection of high-dimentional unit cells"
   ]
  },
  {
   "cell_type": "code",
   "execution_count": 1,
   "metadata": {},
   "outputs": [
    {
     "name": "stdout",
     "output_type": "stream",
     "text": [
      "Loading nlab namespace\n",
      "Could not locate the spectrum module, please install it\n",
      "Multitaper methods will not work\n",
      "Could not locate the spectrum module, please install it\n",
      "Multitaper methods will not work\n"
     ]
    }
   ],
   "source": [
    "%matplotlib inline\n",
    "from neurotools.nlab import *\n",
    "from edges_and_triangles import *\n",
    "\n",
    "import numpy as np\n",
    "\n",
    "import matplotlib.pyplot as plt\n",
    "import matplotlib\n",
    "from matplotlib.patches import Polygon\n",
    "from matplotlib.collections import PatchCollection"
   ]
  },
  {
   "cell_type": "code",
   "execution_count": 2,
   "metadata": {
    "collapsed": true
   },
   "outputs": [],
   "source": [
    "# Generate a collection of paths in M dimensions\n",
    "# Use the unit vector projection to identify the point location\n",
    "# TODO: we need a better datastructure for detecting identical points\n",
    "# I don't know how to do this theoretically unless they occupy\n",
    "# The same location in the higher-dimensional lattice?\n",
    "\n",
    "# Hypothesis: two projections are identical if and only if their unit vectors agree? \n",
    "# This may speed things up?\n",
    "\n",
    "# Still not fast enough. Let's grow the graph from a seed\n",
    "# Using the high-dimensional representation\n",
    "# Iteratively, but only adding points that are close to the plane?\n",
    "# This *may* involve computing distance to a hyperplane. Yuck.\n",
    "# Hmm.\n",
    "\n",
    "# What if we test points by projecting into 2D and out again and seeing whether this operation is a fixed point?\n",
    "# This didn't work as I hoped. \n",
    "\n",
    "# Lets try to write a routine to expand the tiling based on unit vector representation"
   ]
  },
  {
   "cell_type": "code",
   "execution_count": 3,
   "metadata": {
    "collapsed": true
   },
   "outputs": [],
   "source": [
    "# Dimensionality of crystal\n",
    "M = 4\n",
    "# Scale \n",
    "K = 10\n",
    "# Maximum radius of pattern\n",
    "R = 3\n",
    "# Number of nearest-neighbor edge hops to compute when defining the lattice tiling\n",
    "I = 10\n",
    "# number of hops to expand the graph before culling back to 2d\n",
    "H = 3\n",
    "\n",
    "# Define 2D projection unit vectors\n",
    "phases  = arange(M)*pi/M\n",
    "units2d = np.float32([cos(phases),sin(phases)])\n",
    "\n",
    "# Define the M-D basis unit vectors (orhtonormal)\n",
    "basis = np.int8(np.eye(M))\n",
    "\n",
    "# Define units step vectors in all M dimensions\n",
    "steps = np.concatenate([basis,-basis])"
   ]
  },
  {
   "cell_type": "code",
   "execution_count": 4,
   "metadata": {},
   "outputs": [
    {
     "name": "stdout",
     "output_type": "stream",
     "text": [
      "1.0\n",
      "[[  1.00000000e+00   5.19804999e-08   3.79984222e-09   6.51258325e-10]\n",
      " [  5.19804999e-08   1.00000012e+00  -4.75602739e-08  -2.40307307e-09]\n",
      " [  3.79984222e-09  -4.75602739e-08   9.99999940e-01  -4.21468478e-08]\n",
      " [  6.51258325e-10  -2.40307307e-09  -4.21468478e-08   1.00000000e+00]]\n",
      "[[  4.85033240e-08   1.20443708e-08   9.99999940e-01  -1.00000000e+00]\n",
      " [ -6.78598344e-01  -1.24076772e+00  -1.26880515e-08  -1.01751496e-07]]\n"
     ]
    },
    {
     "data": {
      "text/plain": [
       "(4, 4)"
      ]
     },
     "execution_count": 4,
     "metadata": {},
     "output_type": "execute_result"
    }
   ],
   "source": [
    "# To check whether a point is on the hyperplane, project from M -> 2 -> M?\n",
    "# This is linear, combine\n",
    "project2d = units2d.T.dot(units2d)\n",
    "project2d.shape\n",
    "\n",
    "# Construct an approximation of the M-D basis using the 2D unit vectors\n",
    "basis2d = project2d.dot(basis)\n",
    "\n",
    "# I think this is the orthogonal complement?\n",
    "complement = basis - basis2d\n",
    "ocomp = scipy.linalg.orth(complement)\n",
    "\n",
    "# Check ocomp is full rank\n",
    "print(det(ocomp))\n",
    "\n",
    "# Check ocomp is unitary\n",
    "print(ocomp.T.dot(ocomp))\n",
    "\n",
    "# Check that ocomp and units2D are orthogonal This should be zero\n",
    "print(units2d.dot(ocomp))\n",
    "\n",
    "ocomp.shape"
   ]
  },
  {
   "cell_type": "markdown",
   "metadata": {},
   "source": [
    "# Construct tiling in unit representation? \n",
    "\n",
    "Retain explicit notion of a tile as a pair of M-D integer points separated by two different unit hops? This representation is ambiguous as (0,2) and (-1,+1) are both valid representations. Maybe by convention use the minimum, maximum?"
   ]
  },
  {
   "cell_type": "code",
   "execution_count": 5,
   "metadata": {
    "collapsed": true
   },
   "outputs": [],
   "source": [
    "center = np.zeros(M,np.int8)\n",
    "seedtiles = [(center,center + steps[i-1] + steps[i]) for i in range(len(steps))]"
   ]
  },
  {
   "cell_type": "code",
   "execution_count": 6,
   "metadata": {},
   "outputs": [
    {
     "name": "stdout",
     "output_type": "stream",
     "text": [
      "[[ 1  0  0  0]\n",
      " [ 0  1  0  0]\n",
      " [ 0  0  1  0]\n",
      " [ 0  0  0  1]\n",
      " [-1  0  0  0]\n",
      " [ 0 -1  0  0]\n",
      " [ 0  0 -1  0]\n",
      " [ 0  0  0 -1]]\n"
     ]
    }
   ],
   "source": [
    "def pointNeighborhood(p):\n",
    "    '''\n",
    "    p : MD point\n",
    "    '''\n",
    "    return p + steps\n",
    "\n",
    "print(pointNeighborhood(center))"
   ]
  },
  {
   "cell_type": "code",
   "execution_count": 7,
   "metadata": {},
   "outputs": [
    {
     "name": "stdout",
     "output_type": "stream",
     "text": [
      "(array([ 0,  0,  0, -1], dtype=int8), array([1, 0, 0, 0], dtype=int8))\n"
     ]
    }
   ],
   "source": [
    "def canonicalTile(tile):\n",
    "    '''\n",
    "    Ensure tile is in canonical format\n",
    "    '''\n",
    "    a,b = tile\n",
    "    delta = b-a\n",
    "    if not np.all(abs(delta)<=1):\n",
    "        raise ValueError('Tiles are separated by more than one 2d facet: %s, %s'%tile)\n",
    "    if not np.sum(abs(delta))==2:\n",
    "        raise ValueError('Tiles are separated by more than one 2d facet: %s, %s'%tile)\n",
    "    a,b = np.array(np.minimum(a,b),dtype=a.dtype), np.array(np.maximum(a,b),dtype=b.dtype)\n",
    "    assert sum(b-a)==2\n",
    "    return a,b\n",
    "\n",
    "print(canonicalTile(seedtiles[0]))"
   ]
  },
  {
   "cell_type": "code",
   "execution_count": 8,
   "metadata": {},
   "outputs": [
    {
     "data": {
      "image/png": "[encoded data removed]",
      "text/plain": [
       "<matplotlib.figure.Figure at 0x7f8271fa6358>"
      ]
     },
     "metadata": {},
     "output_type": "display_data"
    }
   ],
   "source": [
    "def tilePointsMD(tile):\n",
    "    a,b = canonicalTile(tile)\n",
    "    delta = np.where(b-a==1)[0]\n",
    "    p1 = a\n",
    "    p2 = np.int8(a) + basis[delta[0]]\n",
    "    p3 = b\n",
    "    p4 = np.int8(a) + basis[delta[1]]\n",
    "    points = np.array([p1, p2, p3, p4])\n",
    "    return points\n",
    "    \n",
    "\n",
    "def drawTile(tile):\n",
    "    '''\n",
    "    Tile should be passed as tuple of integer offsets into M-D space\n",
    "    These should be separated by two hops in the M-D crystal lattice\n",
    "    Hmm maybe another format might be easier to store?\n",
    "    '''\n",
    "    points = tilePointsMD(tile).dot(units2d.T)\n",
    "    p = Polygon(points, True, edgecolor=BLACK, facecolor=(1,0,0,.1))\n",
    "    gca().add_patch(p)\n",
    "\n",
    "#drawTile(seedtiles[0])\n",
    "[drawTile(s) for s in seedtiles]\n",
    "xlim(-2,2)\n",
    "ylim(-2,2)\n",
    "force_aspect()"
   ]
  },
  {
   "cell_type": "markdown",
   "metadata": {},
   "source": [
    "## Somehow expand tile set?\n",
    "\n",
    "Only a subset of adjacent tiles are valid; how to understand? Try to find point with minimum norm? An adjacent tile shares an edge. Which means it shares one point and one delta. The tile can be completed by choosing the other delta. Tiles should not intersect. We can compute tile by adding one unit vector. Only allow new unit vectors in directions of increasing norm. "
   ]
  },
  {
   "cell_type": "markdown",
   "metadata": {},
   "source": [
    "Given a tile (a,b), adjacent tiles are ones that share an edge. "
   ]
  },
  {
   "cell_type": "code",
   "execution_count": 9,
   "metadata": {
    "collapsed": true
   },
   "outputs": [],
   "source": [
    "def norm(v):\n",
    "    return np.sqrt(np.sum(v**2))\n",
    "\n",
    "def normsq(v):\n",
    "    return np.sum(v**2)"
   ]
  },
  {
   "cell_type": "code",
   "execution_count": 10,
   "metadata": {
    "collapsed": true
   },
   "outputs": [],
   "source": [
    "def pointset(p):\n",
    "    return set(list(map(tuple,np.int8(p))))"
   ]
  },
  {
   "cell_type": "code",
   "execution_count": 11,
   "metadata": {
    "collapsed": true
   },
   "outputs": [],
   "source": [
    "# To check whether a point is on the hyperplane, project from M -> 2 -> M?\n",
    "# This is linear, combine\n",
    "project2d = units2d.T.dot(units2d)\n",
    "project2d.shape\n",
    "# Define the M-D basis\n",
    "basis = np.int32(np.eye(M))"
   ]
  },
  {
   "cell_type": "code",
   "execution_count": 12,
   "metadata": {},
   "outputs": [
    {
     "name": "stdout",
     "output_type": "stream",
     "text": [
      "(28, 4) (28,)\n",
      "[[ 0  0  0 -1]\n",
      " [ 1  0  0 -1]\n",
      " [ 1  0  0  0]\n",
      " [ 0  0  0  0]] [1 2 1 0]\n"
     ]
    },
    {
     "data": {
      "image/png": "[encoded data removed]",
      "text/plain": [
       "<matplotlib.figure.Figure at 0x7f82716f0128>"
      ]
     },
     "metadata": {},
     "output_type": "display_data"
    }
   ],
   "source": [
    "def adjacentTilePoints(tile):\n",
    "    a,b = canonicalTile(tile)\n",
    "    pp  = set()\n",
    "    for p in tilePointsMD(tile):\n",
    "        pp |= pointset(pointNeighborhood(p))\n",
    "    return np.int8(list(pp))\n",
    "\n",
    "figure(figsize=(9,9))\n",
    "t = seedtiles[0]\n",
    "p = adjacentTilePoints(t)\n",
    "\n",
    "n = np.sum(p*p,axis=1)\n",
    "print(p.shape,n.shape)\n",
    "\n",
    "drawTile(t)\n",
    "scatter(*units2d.dot(p.T))\n",
    "scatter(*units2d.dot(p[n>sqrt(8)].T))\n",
    "\n",
    "pp = tilePointsMD(t)\n",
    "nn = np.sum(pp*pp,axis=1)\n",
    "print(pp,nn)\n",
    "for i in range(4):\n",
    "    scatter(*units2d.dot(pointNeighborhood(pp[i]).T))\n",
    "\n",
    "xlim(-4,4)\n",
    "ylim(-4,4)\n",
    "force_aspect()"
   ]
  },
  {
   "cell_type": "code",
   "execution_count": 13,
   "metadata": {},
   "outputs": [
    {
     "data": {
      "text/plain": [
       "(array([0, 0, 0, 0], dtype=int8), array([1, 1, 0, 0], dtype=int8))"
      ]
     },
     "execution_count": 13,
     "metadata": {},
     "output_type": "execute_result"
    }
   ],
   "source": [
    "def trio2Tile(p1,p2,p3):\n",
    "    pp = np.int8([p1,p2,p3])\n",
    "    distances = np.sum(np.abs(pp[:,None,:]-pp[None,:,:]),axis=2)\n",
    "    if not np.sum(distances==2)==2:\n",
    "        raise ValueError(\"Expected points to encode face\")\n",
    "    if not np.sum(distances==1)==4:\n",
    "        raise ValueError(\"Expected points to encode face\")\n",
    "    return canonicalTile(pp[np.where(distances==2)[0]])\n",
    "\n",
    "trio2Tile(steps[0],center,steps[1])"
   ]
  },
  {
   "cell_type": "code",
   "execution_count": 14,
   "metadata": {
    "collapsed": true
   },
   "outputs": [],
   "source": [
    "def adjacentTiles(tile):\n",
    "    a,b = canonicalTile(tile)\n",
    "    # new tiles found by locating points adjacent to a,b but with more extreme norm\n",
    "    for p in tilePointsMD(tile):\n",
    "        pp = pointNeighborhood(p)\n",
    "        np = pp[ pp.dot(pp.T) > p.dot(p) ]\n"
   ]
  },
  {
   "cell_type": "code",
   "execution_count": null,
   "metadata": {
    "collapsed": true
   },
   "outputs": [],
   "source": []
  }
 ],
 "metadata": {
  "kernelspec": {
   "display_name": "Python 3",
   "language": "python",
   "name": "python3"
  },
  "language_info": {
   "codemirror_mode": {
    "name": "ipython",
    "version": 3
   },
   "file_extension": ".py",
   "mimetype": "text/x-python",
   "name": "python",
   "nbconvert_exporter": "python",
   "pygments_lexer": "ipython3",
   "version": "3.5.2"
  }
 },
 "nbformat": 4,
 "nbformat_minor": 2
}
