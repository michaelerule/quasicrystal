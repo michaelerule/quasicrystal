{
 "cells": [
  {
   "cell_type": "markdown",
   "metadata": {},
   "source": [
    "# Test formation of quasicrystal by projection of high-dimentional unit cells"
   ]
  },
  {
   "cell_type": "code",
   "execution_count": 1,
   "metadata": {},
   "outputs": [
    {
     "name": "stdout",
     "output_type": "stream",
     "text": [
      "Loading nlab namespace\n",
      "Could not locate the spectrum module, please install it\n",
      "Multitaper methods will not work\n",
      "Could not locate the spectrum module, please install it\n",
      "Multitaper methods will not work\n"
     ]
    }
   ],
   "source": [
    "%matplotlib inline\n",
    "from neurotools.nlab import *\n",
    "from edges_and_triangles import *"
   ]
  },
  {
   "cell_type": "code",
   "execution_count": 2,
   "metadata": {
    "collapsed": true
   },
   "outputs": [],
   "source": [
    "# Generate a collection of paths in M dimensions\n",
    "# Use the unit vector projection to identify the point location\n",
    "# TODO: we need a better datastructure for detecting identical points\n",
    "# I don't know how to do this theoretically unless they occupy\n",
    "# The same location in the higher-dimensional lattice?\n",
    "\n",
    "# Hypothesis: two projections are identical if and only if their unit vectors agree? \n",
    "# This may speed things up?\n",
    "\n",
    "# Still not fast enough. Let's grow the graph from a seed\n",
    "# Using the high-dimensional representation\n",
    "# Iteratively, but only adding points that are close to the plane?\n",
    "# This *may* involve computing distance to a hyperplane. Yuck.\n",
    "# Hmm.\n",
    "\n",
    "# What if we test points by projecting into 2D and out again and seeing whether this operation is a fixed point?"
   ]
  },
  {
   "cell_type": "code",
   "execution_count": 3,
   "metadata": {
    "collapsed": true
   },
   "outputs": [],
   "source": [
    "# Dimensionality\n",
    "M = 7\n",
    "# Scale \n",
    "K = 10\n",
    "# Maximum radius of pattern\n",
    "R = 3\n",
    "# Number of nearest-neighbor edge hops to compute when defining the lattice tiling\n",
    "I = 10\n",
    "# number of hops to expand the graph before culling back to 2d\n",
    "H = 3\n",
    "# Unit vectors; make explicit no using complex this time\n",
    "phases  = arange(M)*pi/M\n",
    "units2d = np.float64([cos(phases),sin(phases)])"
   ]
  },
  {
   "cell_type": "code",
   "execution_count": null,
   "metadata": {
    "collapsed": true
   },
   "outputs": [],
   "source": [
    "# To check whether a point is on the hyperplane, project from M -> 2 -> M?\n",
    "# This is linear, combine\n",
    "project2d = units2d.T.dot(units2d)\n",
    "project2d.shape\n",
    "# Define the M-D basis\n",
    "basis = np.int32(np.eye(M))"
   ]
  },
  {
   "cell_type": "code",
   "execution_count": null,
   "metadata": {
    "collapsed": true
   },
   "outputs": [],
   "source": [
    "# Don't use a grid, use a seed.\n",
    "points = np.zeros((1,M),dtype=np.int32)\n",
    "# Define units step vectors in all M dimensions\n",
    "steps = np.concatenate([basis,-basis]).T\n",
    "\n",
    "# Store located points in a set\n",
    "hyperpoints = set(map(tuple,points))\n",
    "\n",
    "for iteration in range(I):\n",
    "    \n",
    "    # Track newly created points\n",
    "    newset = set()\n",
    "    newhyperpoints = set(hyperpoints)\n",
    "    \n",
    "    changed = False\n",
    "    for hop in range(H):\n",
    "        # Use newfound points as seed for next iteration\n",
    "        points = np.int32(array(list(newhyperpoints)))\n",
    "        \n",
    "        # Remove points outside radius\n",
    "        points2d = units2d.dot(points.T)\n",
    "        radius = sum(points2d**2,axis=0)**0.5\n",
    "        points = points[radius<2*R,:]\n",
    "        \n",
    "        # Generate adjacent vectors\n",
    "        adjacent = (points[...,None] + steps[None,:]).transpose((0,2,1))\n",
    "        npt,nadj,ndim = adjacent.shape\n",
    "        adjacent = adjacent.reshape((npt*nadj,ndim))\n",
    "        # Convert to set\n",
    "        adjacentset = set(map(tuple,adjacent))\n",
    "        # Add to hyperpoint set\n",
    "        newset |= (adjacentset-hyperpoints)\n",
    "        newhyperpoints |= adjacentset\n",
    "    \n",
    "    hyperpoints = newhyperpoints\n",
    "    \n",
    "    if len(newset)<=0:\n",
    "        print(\"No new points found, iteration %d\"%iteration)\n",
    "        break\n",
    "        \n",
    "    # Remove existing vectors\n",
    "    new = array(list(newset))\n",
    "    # Form projection onto 2D slice\n",
    "    new2d = new.dot(project2d)\n",
    "    # Remove points outside radius\n",
    "    radius = sum(new2d**2,axis=1)**0.5\n",
    "    new2d = new2d[radius<R]\n",
    "    # Quantize projection in hyperspace\n",
    "    new = np.int32(np.round(units2d.dot(new2d.T)))\n",
    "    # Add new points\n",
    "    newset = set(map(tuple,adjacent)) - hyperpoints\n",
    "    hyperpoints |= newset\n",
    "\n",
    "    \n",
    "points = units2d.dot(array(list(hyperpoints)).T)\n",
    "radius = sum(points**2,axis=0)**0.5\n",
    "figure(figsize=(15,15))\n",
    "scatter(*points[:,radius<R],s=1)\n",
    "force_aspect()"
   ]
  },
  {
   "cell_type": "markdown",
   "metadata": {},
   "source": [
    "# Complete tiling using Voronoi regions"
   ]
  },
  {
   "cell_type": "code",
   "execution_count": null,
   "metadata": {
    "collapsed": true
   },
   "outputs": [],
   "source": [
    "from scipy.spatial import Voronoi, voronoi_plot_2d\n",
    "figure(figsize=(55,55))\n",
    "vor = Voronoi(points.T,qhull_options=\"Qc\")\n",
    "\n",
    "v = vor.vertices\n",
    "v = v[:,0]+1j*v[:,1]\n",
    "v = array(v)\n",
    "r = array(vor.regions)\n",
    "\n",
    "ee = concatenate([array(list(zip(array(e)[arange(-1,len(e))],e))) for e in r])\n",
    "\n",
    "v[abs(v)>R]=NaN\n",
    "\n",
    "#ok = (abs(diff(v[ee],1,1))<1).squeeze()\n",
    "#print(ok.shape,ee.shape)\n",
    "plot_edges(v,ee,color=BLACK,lw=0.5)\n",
    "\n",
    "xlim(-R,R)\n",
    "ylim(-R,R)\n",
    "force_aspect()"
   ]
  },
  {
   "cell_type": "markdown",
   "metadata": {},
   "source": [
    "# Complete tiling using Delaunay triangulation"
   ]
  },
  {
   "cell_type": "code",
   "execution_count": null,
   "metadata": {},
   "outputs": [],
   "source": [
    "import matplotlib.pyplot as plt\n",
    "from scipy.spatial import Delaunay\n",
    "\n",
    "pp = points[:,radius<R].T\n",
    "tri = Delaunay(pp,furthest_site=False, incremental=False, qhull_options=None)\n",
    "\n",
    "figure(figsize=(15,15))\n",
    "force_aspect()\n",
    "plt.triplot(pp[:,0], pp[:,1], tri.simplices.copy())\n",
    "plt.plot(pp[:,0], pp[:,1], 'o', markersize = 0, linewidth=0.5)\n",
    "force_aspect()"
   ]
  },
  {
   "cell_type": "code",
   "execution_count": null,
   "metadata": {},
   "outputs": [],
   "source": [
    "pp.shape"
   ]
  },
  {
   "cell_type": "code",
   "execution_count": null,
   "metadata": {},
   "outputs": [],
   "source": [
    "import matplotlib.pyplot as plt\n",
    "import matplotlib.tri as tri\n",
    "import numpy as np\n",
    "import math\n",
    "pp = points[:,radius<R]\n",
    "# Create the Triangulation; no triangles so Delaunay triangulation created.\n",
    "triang = tri.Triangulation(pp[0],pp[1])\n",
    "# Plot the triangulation.\n",
    "plt.figure(figsize=(55,55))\n",
    "plt.gca().set_aspect('equal')\n",
    "plt.triplot(triang, 'bo-', lw=0.5,markersize=0,color=BLACK)\n",
    "plt.title('triplot of Delaunay triangulation')\n",
    "\n",
    "xlim(-R,R)\n",
    "ylim(-R,R)"
   ]
  },
  {
   "cell_type": "markdown",
   "metadata": {
    "collapsed": true
   },
   "source": [
    "# Complete tiling using adjacency graph of hypercrystal\n",
    "\n",
    "Edges exist if two points are separated by edit distance of 1. Neighborhood-expand existing point set to find them"
   ]
  },
  {
   "cell_type": "code",
   "execution_count": null,
   "metadata": {},
   "outputs": [],
   "source": [
    "# Convert point set to array\n",
    "hyperlist = list(hyperpoints)\n",
    "x = np.int8(hyperlist)\n",
    "# Create ID lookup table\n",
    "hyperid = dict(zip(hyperpoints,range(len(hyperlist))))\n",
    "# Generate adjacent vectors\n",
    "adjacent = (x[...,None] + steps[None,:]).transpose((0,2,1))\n",
    "npt,nadj,ndim = adjacent.shape\n",
    "# Find all neighbors in the hyperpoints set\n",
    "neighbors = [set(map(tuple,adj))&hyperpoints for adj in adjacent]\n",
    "# Convert to indecies into point array\n",
    "neighbor_id = [[hyperid[p] for p in nn] for nn in neighbors]\n",
    "# Convert to edge-indicies\n",
    "ee = array([(i,a) for (i,nn) in enumerate(neighbor_id) for a in nn])\n",
    "# Convert points to complex for faster distance computation\n",
    "v = array(points.T)\n",
    "v = v[:,0]+1j*v[:,1]\n",
    "v = array(v)\n",
    "# Remove edges that are \"long\" in the 2D projection\n",
    "length = abs(diff(v[ee],1,1))[:,0]\n",
    "ee = ee[length<1,:]\n",
    "\n",
    "# Render \n",
    "figure(figsize=(14,14))\n",
    "v[abs(v)>R]=NaN\n",
    "plot_edges(v,ee,color=BLACK,lw=0.5)\n",
    "#xlim(-R,R)\n",
    "#ylim(-R,R)"
   ]
  },
  {
   "cell_type": "code",
   "execution_count": null,
   "metadata": {
    "collapsed": true
   },
   "outputs": [],
   "source": []
  }
 ],
 "metadata": {
  "kernelspec": {
   "display_name": "Python 3",
   "language": "python",
   "name": "python3"
  },
  "language_info": {
   "codemirror_mode": {
    "name": "ipython",
    "version": 3
   },
   "file_extension": ".py",
   "mimetype": "text/x-python",
   "name": "python",
   "nbconvert_exporter": "python",
   "pygments_lexer": "ipython3",
   "version": "3.5.2"
  }
 },
 "nbformat": 4,
 "nbformat_minor": 2
}
