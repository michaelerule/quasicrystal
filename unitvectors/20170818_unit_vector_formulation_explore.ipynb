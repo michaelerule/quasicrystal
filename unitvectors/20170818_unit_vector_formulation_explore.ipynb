{
 "cells": [
  {
   "cell_type": "markdown",
   "metadata": {},
   "source": [
    "# Test formation of quasicrystal by projection of high-dimentional unit cells"
   ]
  },
  {
   "cell_type": "code",
   "execution_count": 2,
   "metadata": {},
   "outputs": [
    {
     "name": "stdout",
     "output_type": "stream",
     "text": [
      "Loading nlab namespace\n",
      "Could not locate the spectrum module, please install it\n",
      "Multitaper methods will not work\n",
      "Could not locate the spectrum module, please install it\n",
      "Multitaper methods will not work\n"
     ]
    }
   ],
   "source": [
    "%matplotlib inline\n",
    "from neurotools.nlab import *\n",
    "from edges_and_triangles import *"
   ]
  },
  {
   "cell_type": "code",
   "execution_count": 3,
   "metadata": {
    "collapsed": true,
    "jupyter": {
     "outputs_hidden": true
    }
   },
   "outputs": [],
   "source": [
    "# Generate a collection of paths in M dimensions\n",
    "# Use the unit vector projection to identify the point location\n",
    "# TODO: we need a better datastructure for detecting identical points\n",
    "# I don't know how to do this theoretically unless they occupy\n",
    "# The same location in the higher-dimensional lattice?\n",
    "\n",
    "# Hypothesis: two projections are identical if and only if their unit vectors agree? \n",
    "# This may speed things up?\n",
    "\n",
    "# Still not fast enough. Let's grow the graph from a seed\n",
    "# Using the high-dimensional representation\n",
    "# Iteratively, but only adding points that are close to the plane?\n",
    "# This *may* involve computing distance to a hyperplane. Yuck.\n",
    "# Hmm.\n",
    "\n",
    "# What if we test points by projecting into 2D and out again and seeing whether this operation is a fixed point?"
   ]
  },
  {
   "cell_type": "code",
   "execution_count": 4,
   "metadata": {
    "collapsed": true,
    "jupyter": {
     "outputs_hidden": true
    }
   },
   "outputs": [],
   "source": [
    "# Dimensionality\n",
    "M = 4\n",
    "# Scale \n",
    "K = 10\n",
    "# Maximum radius of pattern\n",
    "R = 15\n",
    "# Number of nearest-neighbor edge hops to compute when defining the lattice tiling\n",
    "I = 50\n",
    "# Unit vectors; make explicit no using complex this time\n",
    "phases  = arange(M)*pi/M\n",
    "units2d = np.float64([cos(phases),sin(phases)])"
   ]
  },
  {
   "cell_type": "code",
   "execution_count": 1,
   "metadata": {},
   "outputs": [
    {
     "ename": "NameError",
     "evalue": "name 'basis' is not defined",
     "output_type": "error",
     "traceback": [
      "\u001b[1;31m---------------------------------------------------------------------------\u001b[0m",
      "\u001b[1;31mNameError\u001b[0m                                 Traceback (most recent call last)",
      "\u001b[1;32m<ipython-input-1-570f647e24c1>\u001b[0m in \u001b[0;36m<module>\u001b[1;34m()\u001b[0m\n\u001b[1;32m----> 1\u001b[1;33m \u001b[0mbasis\u001b[0m\u001b[1;33m\u001b[0m\u001b[0m\n\u001b[0m",
      "\u001b[1;31mNameError\u001b[0m: name 'basis' is not defined"
     ]
    }
   ],
   "source": [
    "basis"
   ]
  },
  {
   "cell_type": "code",
   "execution_count": 23,
   "metadata": {},
   "outputs": [
    {
     "name": "stdout",
     "output_type": "stream",
     "text": [
      "1.0\n",
      "[[  1.00000000e+00  -1.79380389e-16  -1.21802426e-16   1.57009246e-16]\n",
      " [ -1.79380389e-16   1.00000000e+00  -3.52068201e-17  -1.57009246e-16]\n",
      " [ -1.21802426e-16  -3.52068201e-17   1.00000000e+00   4.26642159e-17]\n",
      " [  1.57009246e-16  -1.57009246e-16   4.26642159e-17   1.00000000e+00]]\n",
      "[[ -7.07106781e-01  -7.07106781e-01   1.00000000e+00  -1.23869238e-16]\n",
      " [ -7.07106781e-01   7.07106781e-01   1.21168839e-16   1.00000000e+00]]\n"
     ]
    },
    {
     "data": {
      "text/plain": [
       "(4, 4)"
      ]
     },
     "execution_count": 23,
     "metadata": {},
     "output_type": "execute_result"
    }
   ],
   "source": [
    "# To check whether a point is on the hyperplane, project from M -> 2 -> M?\n",
    "# This is linear, combine\n",
    "project2d = units2d.T.dot(units2d)\n",
    "project2d.shape\n",
    "\n",
    "# Define the M-D basis\n",
    "basis = np.int32(np.eye(M))\n",
    "\n",
    "# Construct an approximation of the M-D basis using the 2D unit vectors\n",
    "basis2d = project2d.dot(basis)\n",
    "\n",
    "# I think this is the orthogonal complement?\n",
    "complement = basis - basis2d\n",
    "ocomp = scipy.linalg.orth(complement)\n",
    "\n",
    "# Check ocomp is full rank\n",
    "print(det(ocomp))\n",
    "\n",
    "# Check ocomp is unitary\n",
    "print(ocomp.T.dot(ocomp))\n",
    "\n",
    "# Check that ocomp and units2D are orthogonal This should be zero\n",
    "print(units2d.dot(ocomp))\n",
    "\n",
    "ocomp.shape"
   ]
  },
  {
   "cell_type": "code",
   "execution_count": 24,
   "metadata": {},
   "outputs": [
    {
     "ename": "NameError",
     "evalue": "name 'projectednew' is not defined",
     "output_type": "error",
     "traceback": [
      "\u001b[1;31m---------------------------------------------------------------------------\u001b[0m",
      "\u001b[1;31mNameError\u001b[0m                                 Traceback (most recent call last)",
      "\u001b[1;32m<ipython-input-24-521e030469d9>\u001b[0m in \u001b[0;36m<module>\u001b[1;34m()\u001b[0m\n\u001b[0;32m     30\u001b[0m         \u001b[1;31m# Depricated: using distance from hyperplane\u001b[0m\u001b[1;33m\u001b[0m\u001b[1;33m\u001b[0m\u001b[0m\n\u001b[0;32m     31\u001b[0m         \u001b[0mnew\u001b[0m \u001b[1;33m=\u001b[0m \u001b[0mnew\u001b[0m\u001b[1;33m[\u001b[0m\u001b[0mkeep\u001b[0m\u001b[1;33m,\u001b[0m\u001b[1;33m:\u001b[0m\u001b[1;33m]\u001b[0m\u001b[1;33m\u001b[0m\u001b[0m\n\u001b[1;32m---> 32\u001b[1;33m         \u001b[0mprojectednew\u001b[0m \u001b[1;33m=\u001b[0m \u001b[0mprojectednew\u001b[0m\u001b[1;33m[\u001b[0m\u001b[0mkeep\u001b[0m\u001b[1;33m,\u001b[0m\u001b[1;33m:\u001b[0m\u001b[1;33m]\u001b[0m\u001b[1;33m\u001b[0m\u001b[0m\n\u001b[0m\u001b[0;32m     33\u001b[0m         \u001b[1;31m# Get distance\u001b[0m\u001b[1;33m\u001b[0m\u001b[1;33m\u001b[0m\u001b[0m\n\u001b[0;32m     34\u001b[0m         \u001b[0mdistance\u001b[0m \u001b[1;33m=\u001b[0m \u001b[0msqrt\u001b[0m\u001b[1;33m(\u001b[0m\u001b[0msum\u001b[0m\u001b[1;33m(\u001b[0m\u001b[0mnew\u001b[0m\u001b[1;33m.\u001b[0m\u001b[0mdot\u001b[0m\u001b[1;33m(\u001b[0m\u001b[0mocomp\u001b[0m\u001b[1;33m)\u001b[0m\u001b[1;33m**\u001b[0m\u001b[1;36m2\u001b[0m\u001b[1;33m,\u001b[0m\u001b[0maxis\u001b[0m\u001b[1;33m=\u001b[0m\u001b[1;36m1\u001b[0m\u001b[1;33m)\u001b[0m\u001b[1;33m)\u001b[0m\u001b[1;33m\u001b[0m\u001b[0m\n",
      "\u001b[1;31mNameError\u001b[0m: name 'projectednew' is not defined"
     ]
    }
   ],
   "source": [
    "# Don't use a grid, use a seed.\n",
    "points = np.zeros((1,M),dtype=np.int32)\n",
    "# Define units step vectors in all M dimensions\n",
    "steps = np.concatenate([basis,-basis]).T\n",
    "\n",
    "# Store located points in a set\n",
    "hyperpoints = set(map(tuple,points))\n",
    "\n",
    "method = 'hyperplane'\n",
    "\n",
    "for iteration in range(I):\n",
    "    # print(iteration)\n",
    "    # Generate adjacent vectors\n",
    "    adjacent = (points[...,None] + steps[None,:]).transpose((0,2,1))\n",
    "    npt,nadj,ndim = adjacent.shape\n",
    "    adjacent = adjacent.reshape((npt*nadj,ndim))\n",
    "    \n",
    "    # Remove existing vectors\n",
    "    new = array(list(set(map(tuple,adjacent)) - hyperpoints))\n",
    "    \n",
    "    # Form projection onto 2D slice\n",
    "    new2d = new.dot(units2d.T)\n",
    "    \n",
    "    # Remove outside radius\n",
    "    distance = sqrt(sum(new2d**2,axis=1))\n",
    "    keep = distance<R\n",
    "    new2d = new2d[keep,:]\n",
    "\n",
    "    if method=='hyperplane':\n",
    "        # Depricated: using distance from hyperplane\n",
    "        new = new[keep,:]\n",
    "        projectednew = projectednew[keep,:]\n",
    "        # Get distance\n",
    "        distance = sqrt(sum(new.dot(ocomp)**2,axis=1))\n",
    "        # Calculate errors incurred by projection\n",
    "        # Points in this slice should have small error\n",
    "        distance = sum((projectednew - new)**2,axis=1)**0.5\n",
    "        mind = np.min(distance)    \n",
    "        # print(\"Minimum error is\",minerror)\n",
    "        # Select points to add\n",
    "        inslice = distance<=sqrt(M)#+1e-4\n",
    "        # Add these points to hyperpoints\n",
    "        new = new[inslice]\n",
    "    if method=='quantize':\n",
    "        # New method: quantizing the projection\n",
    "        new = np.round(new2d.dot(units2d))\n",
    "    \n",
    "    hyperpoints |= set(map(tuple,new))\n",
    "    # Use newfound points as seed for next iteration\n",
    "    points = new\n",
    "    if new.shape[0]<1:\n",
    "        print(\"No new points found\")\n",
    "        break\n",
    "    \n",
    "points = units2d.dot(array(list(hyperpoints)).T)\n",
    "distance = sqrt(sum(points**2,axis=0))\n",
    "figure(figsize=(15,15))\n",
    "scatter(*points,s=1)\n",
    "force_aspect()"
   ]
  },
  {
   "cell_type": "markdown",
   "metadata": {},
   "source": [
    "# Complete tiling using Voronoi regions"
   ]
  },
  {
   "cell_type": "code",
   "execution_count": null,
   "metadata": {
    "collapsed": true,
    "jupyter": {
     "outputs_hidden": true
    }
   },
   "outputs": [],
   "source": [
    "from scipy.spatial import Voronoi, voronoi_plot_2d\n",
    "figure(figsize=(14,14))\n",
    "\n",
    "vor = Voronoi(points.T,qhull_options=\"Qc\")\n",
    "\n",
    "v = vor.vertices\n",
    "v = v[:,0]+1j*v[:,1]\n",
    "v = array(v)\n",
    "r = array(vor.regions)\n",
    "\n",
    "ee = concatenate([array(list(zip(array(e)[arange(-1,len(e))],e))) for e in r])\n",
    "\n",
    "v[abs(v)>R]=NaN\n",
    "\n",
    "ok = (abs(diff(v[ee],1,1))<1).squeeze()\n",
    "print(ok.shape,ee.shape)\n",
    "plot_edges(v,ee[ok,:],color=BLACK,lw=0.5)\n",
    "\n",
    "#xlim(-R,R)\n",
    "#ylim(-R,R)\n",
    "force_aspect()"
   ]
  },
  {
   "cell_type": "markdown",
   "metadata": {},
   "source": [
    "# Complete tiling using Delaunay triangulation"
   ]
  },
  {
   "cell_type": "code",
   "execution_count": null,
   "metadata": {
    "collapsed": true,
    "jupyter": {
     "outputs_hidden": true
    }
   },
   "outputs": [],
   "source": [
    "import matplotlib.pyplot as plt\n",
    "import matplotlib.tri as tri\n",
    "import numpy as np\n",
    "import math\n",
    "pp = points\n",
    "# Create the Triangulation; no triangles so Delaunay triangulation created.\n",
    "triang = tri.Triangulation(pp[0],pp[1])\n",
    "# Plot the triangulation.\n",
    "plt.figure(figsize=(15,15))\n",
    "plt.gca().set_aspect('equal')\n",
    "plt.triplot(triang, 'bo-', lw=0.5,markersize=0,color=BLACK)\n",
    "plt.title('triplot of Delaunay triangulation')\n",
    "#xlim(-R,R)\n",
    "#ylim(-R,R)"
   ]
  },
  {
   "cell_type": "markdown",
   "metadata": {},
   "source": [
    "# Complete tiling using adjacency graph of hypercrystal\n",
    "\n",
    "Edges exist if two points are separated by edit distance of 1. Neighborhood-expand existing point set to find them"
   ]
  },
  {
   "cell_type": "code",
   "execution_count": null,
   "metadata": {
    "tags": []
   },
   "outputs": [],
   "source": [
    "# Convert point set to array\n",
    "hyperlist = list(hyperpoints)\n",
    "x = np.int8(hyperlist)\n",
    "# Create ID lookup table\n",
    "hyperid = dict(zip(hyperpoints,range(len(hyperlist))))\n",
    "# Generate adjacent vectors\n",
    "adjacent = (x[...,None] + steps[None,:]).transpose((0,2,1))\n",
    "npt,nadj,ndim = adjacent.shape\n",
    "# Find all neighbots in the hyperpoints set\n",
    "neighbors = [set(map(tuple,adj))&hyperpoints for adj in adjacent]\n",
    "# Convert to indecies into point array\n",
    "neighbor_id = [[hyperid[p] for p in nn] for nn in neighbors]"
   ]
  },
  {
   "cell_type": "code",
   "execution_count": null,
   "metadata": {
    "tags": []
   },
   "outputs": [],
   "source": [
    "# Render \n",
    "figure(figsize=(14,14))\n",
    "\n",
    "v = array(points.T)\n",
    "v = v[:,0]+1j*v[:,1]\n",
    "v = array(v)\n",
    "\n",
    "ee = array([(i,a) for (i,nn) in enumerate(neighbor_id) for a in nn])\n",
    "\n",
    "#v[abs(v)>R]=NaN\n",
    "plot_edges(v,ee,color=BLACK,lw=0.5)\n",
    "\n",
    "#xlim(-R,R)\n",
    "#ylim(-R,R)"
   ]
  },
  {
   "cell_type": "code",
   "execution_count": null,
   "metadata": {
    "collapsed": true,
    "jupyter": {
     "outputs_hidden": true
    }
   },
   "outputs": [],
   "source": [
    "points.shape,len(hyperpoints)"
   ]
  },
  {
   "cell_type": "code",
   "execution_count": null,
   "metadata": {
    "collapsed": true,
    "jupyter": {
     "outputs_hidden": true
    }
   },
   "outputs": [],
   "source": [
    "ee.shape"
   ]
  },
  {
   "cell_type": "code",
   "execution_count": null,
   "metadata": {
    "collapsed": true,
    "jupyter": {
     "outputs_hidden": true
    }
   },
   "outputs": [],
   "source": []
  }
 ],
 "metadata": {
  "kernelspec": {
   "display_name": "Python 3 (ipykernel)",
   "language": "python",
   "name": "python3"
  },
  "language_info": {
   "codemirror_mode": {
    "name": "ipython",
    "version": 3
   },
   "file_extension": ".py",
   "mimetype": "text/x-python",
   "name": "python",
   "nbconvert_exporter": "python",
   "pygments_lexer": "ipython3",
   "version": "3.10.4"
  }
 },
 "nbformat": 4,
 "nbformat_minor": 4
}
