{
 "cells": [
  {
   "cell_type": "markdown",
   "metadata": {},
   "source": [
    "# Test formation of quasicrystal by projection of high-dimensional unit cells"
   ]
  },
  {
   "cell_type": "code",
   "execution_count": 19,
   "metadata": {
    "collapsed": true
   },
   "outputs": [],
   "source": [
    "%matplotlib inline\n",
    "from neurotools.nlab import *"
   ]
  },
  {
   "cell_type": "code",
   "execution_count": 20,
   "metadata": {
    "collapsed": true
   },
   "outputs": [],
   "source": [
    "# Dimensionality\n",
    "M = 7\n",
    "\n",
    "# Scale \n",
    "K = 3\n",
    "\n",
    "# Unit vectors\n",
    "units = exp(1j*arange(M)*pi/M)"
   ]
  },
  {
   "cell_type": "code",
   "execution_count": 21,
   "metadata": {
    "collapsed": true
   },
   "outputs": [],
   "source": [
    "# Generate a collection of paths in M dimensions\n",
    "# Use the unit vector projection to identify the point location\n",
    "# TODO: we need a better datastructure for detecting identical points\n",
    "# I don't know how to do this theoretically unless they occupy\n",
    "# The same location in the higher-dimensional lattice?"
   ]
  },
  {
   "cell_type": "code",
   "execution_count": null,
   "metadata": {
    "collapsed": true
   },
   "outputs": [],
   "source": [
    "class Pointset():\n",
    "    '''\n",
    "    Behaves like a set, but instead of equality, \n",
    "    uses a proximity threshold to determine whether\n",
    "    two points are the same.\n",
    "    '''\n",
    "    def __init__(self):\n",
    "        self.N = 20 # Size of point storage\n",
    "        self.K = 0  # Number stored points\n",
    "        self.storage = np.zeros((self.N,),dtype=np.complex128)\n",
    "        self.counts  = np.zeros((self.N,),dtype=np.int64)\n",
    "        self.eps = 1e-8 # tolerance for considering two points the same\n",
    "    def add(self,point):\n",
    "        distance = np.abs(point-self.storage)\n",
    "        mini = np.argmin(distance)\n",
    "        if distance[mini]<=self.eps:\n",
    "            # Point is close to existing point, do not add it\n",
    "            # Replace point with a value representing the mean\n",
    "            # We should also track counts, shouldn't we?\n",
    "            npoints = self.counts [mini]\n",
    "            z       = self.storage[mini]\n",
    "            self.storage[mini] = (z*npoints+point)/(npoints+1)\n",
    "            self.counts[mini] += 1\n",
    "        else:\n",
    "            # Point is not close to existing point, add it\n",
    "            # If we nede more space, make it\n",
    "            if self.K>=self.N:\n",
    "                self.N = self.N*2\n",
    "                newstore = np.zeros((self.N,),dtype=np.complex128)\n",
    "                newcounts = np.zeros((self.N,),dtype=np.int64)\n",
    "                newstore[:self.K]  = self.storage\n",
    "                newcounts[:self.K] = self.counts\n",
    "                self.storage = newstore\n",
    "                self.counts  = newcounts\n",
    "            assert self.K<self.N\n",
    "            self.storage[self.K]=point\n",
    "            self.counts [self.K]=1\n",
    "            self.K +=1"
   ]
  },
  {
   "cell_type": "code",
   "execution_count": null,
   "metadata": {
    "collapsed": true
   },
   "outputs": [],
   "source": [
    "# Generate points using unit vectors\n",
    "import itertools\n",
    "cycle = arange(-K,K+1)\n",
    "generated = [cycle]*M\n",
    "\n",
    "points = Pointset()\n",
    "\n",
    "for v in itertools.product(*generated):\n",
    "    z = array(v).dot(units)\n",
    "    if abs(z)<K:\n",
    "        points.add(z)\n"
   ]
  },
  {
   "cell_type": "code",
   "execution_count": null,
   "metadata": {
    "collapsed": true
   },
   "outputs": [],
   "source": [
    "def z2xy(z):\n",
    "    return z.real,z.imag"
   ]
  },
  {
   "cell_type": "code",
   "execution_count": null,
   "metadata": {
    "collapsed": true
   },
   "outputs": [],
   "source": [
    "figure(figsize=(15,15))\n",
    "scatter(*z2xy(points.storage))\n",
    "force_aspect()"
   ]
  },
  {
   "cell_type": "code",
   "execution_count": null,
   "metadata": {
    "collapsed": true
   },
   "outputs": [],
   "source": []
  },
  {
   "cell_type": "code",
   "execution_count": null,
   "metadata": {
    "collapsed": true
   },
   "outputs": [],
   "source": [
    "from collections import defaultdict\n",
    "\n",
    "def z2xy(z):\n",
    "    '''\n",
    "    Converts an array of complex numbers into two arrays\n",
    "    representing real and imaginary parts, respectively.\n",
    "    '''\n",
    "    return real(z),imag(z)\n",
    "\n",
    "def uniquerow(x):\n",
    "    '''\n",
    "    Removes duplicate rows from a 2D numpy array\n",
    "    '''\n",
    "    return array(list(set(map(tuple,x))))\n",
    "\n",
    "def trianglesToEdges(triangles):\n",
    "    '''\n",
    "    Accepts Ntriangles x 3 array of triangle indeces, like the format\n",
    "    returned by `scipy.spatial.Delaunay(...).simplices`. Returns a\n",
    "    Nedges x 2 numpy array of unique edges in the triangulation\n",
    "    '''\n",
    "    tedges    = triangles[:,[0,1,1,2,2,0]].reshape((size(triangles),2))\n",
    "    tedges    = uniquerow(sort(tedges,axis=1))\n",
    "    return tedges\n",
    "\n",
    "def edgesNearby(iz,microd):\n",
    "    '''\n",
    "    Returns a dictionary mapping from \n",
    "    indecies into point list iz \n",
    "    (2d locations passed as x+iy complex)\n",
    "    to a list of nearby point indices\n",
    "    \n",
    "    Computed by thresholding delaunay triangulation\n",
    "    '''\n",
    "    points    = array([real(iz),imag(iz)])\n",
    "    triangles = scipy.spatial.Delaunay(points.T).simplices\n",
    "    tedges    = trianglesToEdges(triangles)\n",
    "    edgelen   = ravel(abs(diff(iz[tedges],axis=1)))\n",
    "    tedges    = tedges[edgelen<microd,:]\n",
    "    \n",
    "    #tedges = concatenate([tedges,tedges[:,[1,0]]])\n",
    "    #coordsparse = scipy.sparse.coo_matrix((ones(tedges.shape[0]),(tedges[:,0],tedges[:,1])))\n",
    "    #edgelist = scipy.sparse.csr_matrix(coordsparse)\n",
    "    \n",
    "    edgelist  = defaultdict(set)\n",
    "    for i,z in enumerate(iz):\n",
    "        edgelist[i] = tuple(ravel(tedges[(tedges==i)[:,[1,0]]]))   \n",
    "    \n",
    "    return edgelist\n",
    "\n",
    "def coalesce(iz,edgelist):\n",
    "    '''\n",
    "    Joint connected components as defined in edgelist, and return the centroids\n",
    "    taken as an average of all point locations in list iz \n",
    "    (2d locations passed as x+iy complex)\n",
    "    '''\n",
    "    components = {}\n",
    "    for i in arange(len(iz)):\n",
    "        components[i]=i\n",
    "        for e in edgelist[i]:\n",
    "        #for e in scipy.sparse.find(edgelist[i])[1]:\n",
    "            if e in components:\n",
    "                components[i]=components[e]\n",
    "                break\n",
    "    componentlist = defaultdict(set)\n",
    "    for e,cid in components.items():\n",
    "        componentlist[cid]|={e}\n",
    "    component_ids = sorted(list(set(components.values())))\n",
    "    centroids = array([mean(iz[array(list(componentlist[cid]))]) for cid in component_ids])\n",
    "    return centroids\n",
    "\n",
    "def plot_edges(iz,edges,**kwargs):\n",
    "    '''\n",
    "    Plots a set of edges given by 2d complex numbers and Nedges x 2 array of edge indices\n",
    "    keword arguments are forwarded to matplotlib.plot\n",
    "    '''\n",
    "    edgelist = ravel(np.concatenate([edges[:,:1]*NaN,iz[edges]],axis=1))\n",
    "    plot(*z2xy(array(edgelist)),**kwargs)\n",
    "    force_aspect()\n",
    "    \n",
    "def plot_triangles(iz,triangles,**kwargs):\n",
    "    '''\n",
    "    '''\n",
    "    edges = trianglesToEdges(triangles)\n",
    "    edgelist = ravel(np.concatenate([edges[:,:1]*NaN,iz[edges]],axis=1))\n",
    "    plot(*z2xy(array(edgelist)),**kwargs)\n",
    "    force_aspect()"
   ]
  },
  {
   "cell_type": "code",
   "execution_count": null,
   "metadata": {
    "collapsed": true
   },
   "outputs": [],
   "source": [
    "centroids = points.storage[:points.K]\n",
    "\n",
    "from scipy.spatial import Voronoi, voronoi_plot_2d\n",
    "pp = array([real(centroids),imag(centroids)])\n",
    "vor = Voronoi(pp.T,qhull_options=\"Qc\")\n",
    "vor.regions\n",
    "vor.point_region\n",
    "v = vor.vertices\n",
    "v = v[:,0]+1j*v[:,1]\n",
    "r = array( vor.regions)\n",
    "\n",
    "figure(figsize=(14,14))\n",
    "ee = concatenate([array(list(zip(array(e)[arange(-1,len(e))],e))) for e in r])\n",
    "vmask = array(v)\n",
    "\n",
    "okedges = diff(vmask[ee],1,1)[:,0]<1\n",
    "vmask[abs(vmask)>K/2]=NaN\n",
    "\n",
    "plot_edges(vmask,ee[okedges,:],color=BLACK,lw=1)\n",
    "\n",
    "xlim(-K/2,K/2)\n",
    "ylim(-K/2,K/2)"
   ]
  },
  {
   "cell_type": "code",
   "execution_count": null,
   "metadata": {
    "collapsed": true
   },
   "outputs": [],
   "source": [
    "import matplotlib.pyplot as plt\n",
    "import matplotlib.tri as tri\n",
    "import numpy as np\n",
    "import math\n",
    "\n",
    "# Create the Triangulation; no triangles so Delaunay triangulation created.\n",
    "triang = tri.Triangulation(pp[0],pp[1])\n",
    "\n",
    "# Plot the triangulation.\n",
    "plt.figure(figsize=(15,15))\n",
    "plt.gca().set_aspect('equal')\n",
    "plt.triplot(triang, 'bo-', lw=1)\n",
    "plt.title('triplot of Delaunay triangulation')\n"
   ]
  },
  {
   "cell_type": "code",
   "execution_count": null,
   "metadata": {
    "collapsed": true
   },
   "outputs": [],
   "source": [
    "triang.triangles.shape"
   ]
  },
  {
   "cell_type": "code",
   "execution_count": null,
   "metadata": {
    "collapsed": true
   },
   "outputs": [],
   "source": []
  }
 ],
 "metadata": {
  "kernelspec": {
   "display_name": "Python 3",
   "language": "python",
   "name": "python3"
  },
  "language_info": {
   "codemirror_mode": {
    "name": "ipython",
    "version": 3
   },
   "file_extension": ".py",
   "mimetype": "text/x-python",
   "name": "python",
   "nbconvert_exporter": "python",
   "pygments_lexer": "ipython3",
   "version": "3.5.2"
  }
 },
 "nbformat": 4,
 "nbformat_minor": 2
}
