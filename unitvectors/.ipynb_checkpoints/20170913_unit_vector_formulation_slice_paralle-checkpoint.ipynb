{
 "cells": [
  {
   "cell_type": "markdown",
   "metadata": {},
   "source": [
    "### Test formation of quasicrystal by projection of high-dimentional unit cells"
   ]
  },
  {
   "cell_type": "code",
   "execution_count": 23,
   "metadata": {},
   "outputs": [],
   "source": [
    "%matplotlib inline\n",
    "from neurotools.nlab import *\n",
    "import sys\n",
    "import matplotlib.pyplot as plt\n",
    "import matplotlib.tri as tri\n",
    "import numpy as np\n",
    "import math"
   ]
  },
  {
   "cell_type": "code",
   "execution_count": 24,
   "metadata": {},
   "outputs": [],
   "source": [
    "# Generate a collection of paths in M dimensions\n",
    "# Use the unit vector projection to identify the point location\n",
    "# TODO: we need a better datastructure for detecting identical points\n",
    "# I don't know how to do this theoretically unless they occupy\n",
    "# The same location in the higher-dimensional lattice?\n",
    "\n",
    "# Hypothesis: two projections are identical if and only if their unit vectors agree? \n",
    "# This may speed things up?"
   ]
  },
  {
   "cell_type": "code",
   "execution_count": 25,
   "metadata": {},
   "outputs": [],
   "source": [
    "# Dimensionality\n",
    "M = 6\n",
    "# Raster scale \n",
    "K = 20\n",
    "# Raster resolution\n",
    "S = 30000\n",
    "# Unit vectors; make explicit no using complex this time\n",
    "phases  = arange(M)*pi/M\n",
    "rescale = 1.0/sqrt(0.5*M)\n",
    "units   = np.float64([cos(phases),sin(phases)])#*rescale"
   ]
  },
  {
   "cell_type": "code",
   "execution_count": 26,
   "metadata": {},
   "outputs": [
    {
     "data": {
      "text/plain": [
       "array([[  3.00000000e+00,   3.25629823e-16],\n",
       "       [  3.25629823e-16,   3.00000000e+00]])"
      ]
     },
     "execution_count": 26,
     "metadata": {},
     "output_type": "execute_result"
    }
   ],
   "source": [
    "units.T.dot(units)\n",
    "units.dot(units.T)"
   ]
  },
  {
   "cell_type": "markdown",
   "metadata": {},
   "source": [
    "### Brute force: project plane at high-res into hyperlattice"
   ]
  },
  {
   "cell_type": "code",
   "execution_count": 27,
   "metadata": {},
   "outputs": [
    {
     "name": "stdout",
     "output_type": "stream",
     "text": [
      "POOL FOUND. RESTARTING\n",
      "Attempting to terminate pool, may become unresponsive\n",
      "\n",
      "            \r"
     ]
    }
   ],
   "source": [
    "# Generate grid\n",
    "def row_helper(i):\n",
    "    x  = np.linspace(-K*0.01,K,S)\n",
    "    y  = np.ones((S,))*x[i]\n",
    "    # Lift 2D grid into unit basis (not uniquely constrained)\n",
    "    # Quantize lifted points in higer dimensional unit basis\n",
    "    quanta = np.int32(np.round(units.T.dot(np.array([x,y]))))\n",
    "    # Remove duplicate points\n",
    "    points = array(list(set(map(tuple,quanta.T)))).T\n",
    "    # Project back to 2D\n",
    "    return i,units.dot(points)\n",
    "\n",
    "neurotools.jobs.parallel.reset_pool()\n",
    "results = parmap(row_helper,arange(S),debug=False)\n",
    "shadow  = np.concatenate([r.T for r in results]).T"
   ]
  },
  {
   "cell_type": "code",
   "execution_count": 30,
   "metadata": {},
   "outputs": [
    {
     "data": {
      "text/plain": [
       "(2, 2846199)"
      ]
     },
     "execution_count": 30,
     "metadata": {},
     "output_type": "execute_result"
    }
   ],
   "source": [
    "shadow.shape"
   ]
  },
  {
   "cell_type": "code",
   "execution_count": 31,
   "metadata": {},
   "outputs": [
    {
     "ename": "RuntimeError",
     "evalue": "Error in qhull Delaunay triangulation calculation: internal error (exitcode=5); use python verbose option (-v) to see original qhull error.",
     "output_type": "error",
     "traceback": [
      "\u001b[1;31m---------------------------------------------------------------------------\u001b[0m",
      "\u001b[1;31mRuntimeError\u001b[0m                              Traceback (most recent call last)",
      "\u001b[1;32m<ipython-input-31-c89503b1eea7>\u001b[0m in \u001b[0;36m<module>\u001b[1;34m()\u001b[0m\n\u001b[0;32m      1\u001b[0m \u001b[0mpp\u001b[0m \u001b[1;33m=\u001b[0m \u001b[0mshadow\u001b[0m\u001b[1;33m\u001b[0m\u001b[0m\n\u001b[0;32m      2\u001b[0m \u001b[1;31m# Create the Triangulation; no triangles so Delaunay triangulation created.\u001b[0m\u001b[1;33m\u001b[0m\u001b[1;33m\u001b[0m\u001b[0m\n\u001b[1;32m----> 3\u001b[1;33m \u001b[0mtriang\u001b[0m \u001b[1;33m=\u001b[0m \u001b[0mtri\u001b[0m\u001b[1;33m.\u001b[0m\u001b[0mTriangulation\u001b[0m\u001b[1;33m(\u001b[0m\u001b[0mpp\u001b[0m\u001b[1;33m[\u001b[0m\u001b[1;36m0\u001b[0m\u001b[1;33m]\u001b[0m\u001b[1;33m,\u001b[0m\u001b[0mpp\u001b[0m\u001b[1;33m[\u001b[0m\u001b[1;36m1\u001b[0m\u001b[1;33m]\u001b[0m\u001b[1;33m)\u001b[0m\u001b[1;33m\u001b[0m\u001b[0m\n\u001b[0m\u001b[0;32m      4\u001b[0m \u001b[1;31m# Plot the triangulation.\u001b[0m\u001b[1;33m\u001b[0m\u001b[1;33m\u001b[0m\u001b[0m\n\u001b[0;32m      5\u001b[0m \u001b[0mplt\u001b[0m\u001b[1;33m.\u001b[0m\u001b[0mfigure\u001b[0m\u001b[1;33m(\u001b[0m\u001b[0mfigsize\u001b[0m\u001b[1;33m=\u001b[0m\u001b[1;33m(\u001b[0m\u001b[1;36m45\u001b[0m\u001b[1;33m,\u001b[0m\u001b[1;36m45\u001b[0m\u001b[1;33m)\u001b[0m\u001b[1;33m)\u001b[0m\u001b[1;33m\u001b[0m\u001b[0m\n",
      "\u001b[1;32m/usr/local/lib/python3.5/dist-packages/matplotlib/tri/triangulation.py\u001b[0m in \u001b[0;36m__init__\u001b[1;34m(self, x, y, triangles, mask)\u001b[0m\n\u001b[0;32m     53\u001b[0m             \u001b[1;31m# No triangulation specified, so use matplotlib._qhull to obtain\u001b[0m\u001b[1;33m\u001b[0m\u001b[1;33m\u001b[0m\u001b[0m\n\u001b[0;32m     54\u001b[0m             \u001b[1;31m# Delaunay triangulation.\u001b[0m\u001b[1;33m\u001b[0m\u001b[1;33m\u001b[0m\u001b[0m\n\u001b[1;32m---> 55\u001b[1;33m             \u001b[0mself\u001b[0m\u001b[1;33m.\u001b[0m\u001b[0mtriangles\u001b[0m\u001b[1;33m,\u001b[0m \u001b[0mself\u001b[0m\u001b[1;33m.\u001b[0m\u001b[0m_neighbors\u001b[0m \u001b[1;33m=\u001b[0m \u001b[0m_qhull\u001b[0m\u001b[1;33m.\u001b[0m\u001b[0mdelaunay\u001b[0m\u001b[1;33m(\u001b[0m\u001b[0mx\u001b[0m\u001b[1;33m,\u001b[0m \u001b[0my\u001b[0m\u001b[1;33m)\u001b[0m\u001b[1;33m\u001b[0m\u001b[0m\n\u001b[0m\u001b[0;32m     56\u001b[0m             \u001b[0mself\u001b[0m\u001b[1;33m.\u001b[0m\u001b[0mis_delaunay\u001b[0m \u001b[1;33m=\u001b[0m \u001b[1;32mTrue\u001b[0m\u001b[1;33m\u001b[0m\u001b[0m\n\u001b[0;32m     57\u001b[0m         \u001b[1;32melse\u001b[0m\u001b[1;33m:\u001b[0m\u001b[1;33m\u001b[0m\u001b[0m\n",
      "\u001b[1;31mRuntimeError\u001b[0m: Error in qhull Delaunay triangulation calculation: internal error (exitcode=5); use python verbose option (-v) to see original qhull error."
     ]
    }
   ],
   "source": [
    "pp = shadow\n",
    "# Create the Triangulation; no triangles so Delaunay triangulation created.\n",
    "triang = tri.Triangulation(pp[0],pp[1])\n",
    "# Plot the triangulation.\n",
    "plt.figure(figsize=(45,45))\n",
    "plt.gca().set_aspect('equal')\n",
    "plt.triplot(triang, 'ko-', lw=0.5,markersize=0)\n",
    "plt.title('triplot of Delaunay triangulation')\n",
    "lima,limb = xlim()"
   ]
  },
  {
   "cell_type": "code",
   "execution_count": null,
   "metadata": {},
   "outputs": [],
   "source": [
    "# Compute edge lengths of triangles\n",
    "xy = np.array([triang.x,triang.y])\n",
    "z = np.array(triang.x) + 1j*np.array(triang.y)\n",
    "tedgs = triang.triangles[:,[0,1,2,0]]\n",
    "tpts = z[tedgs]\n",
    "tedgelen = abs(diff(tpts,axis=1))\n",
    "elens = tedgelen.ravel()\n",
    "\n",
    "# Expected lengths of rhombus diagonals\n",
    "ph = phases[1:M//2+1]\n",
    "cp = cos(ph)\n",
    "sp = sin(ph)\n",
    "elen = sqrt(sp**2+(1-cp)**2)\n",
    "elen = np.append([1],elen)#*rescale # add unit length\n",
    "\n",
    "# Determine edge length ID (identifies tri shape)\n",
    "near = abs(tedgelen[:,:,None]-elen[None,None,:])\n",
    "edgeid = argmin(near,axis=2)\n",
    "\n",
    "# Handle equilateral triangles specially\n",
    "unit = find(abs(elen-1)<1e-3)\n",
    "redund = unit!=0\n",
    "if any(redund):\n",
    "    replace = unit[redund]\n",
    "    for id in replace:\n",
    "        edgeid[edgeid==id] = 0\n",
    "\n",
    "# Ok?\n",
    "tok = sum(edgeid==0,axis=1)>=2\n",
    "category = sum(edgeid,axis=1)\n",
    "print('%0.2f%% triangles OK'%(100*mean(tok)))\n",
    "\n",
    "# Generate a color map for triangles\n",
    "cmapdata = neurotools.color.isolum_data\n",
    "cmapdata.shape,\n",
    "NC = (np.max(edgeid)+1)\n",
    "cmap = cmapdata[(arange(NC)*cmapdata.shape[0])//NC,:]"
   ]
  },
  {
   "cell_type": "code",
   "execution_count": null,
   "metadata": {},
   "outputs": [],
   "source": [
    "rescale"
   ]
  },
  {
   "cell_type": "code",
   "execution_count": null,
   "metadata": {},
   "outputs": [],
   "source": [
    "hist(elens,300);\n",
    "axvline(rescale,color='r')\n",
    "xlim(0,5)"
   ]
  },
  {
   "cell_type": "code",
   "execution_count": null,
   "metadata": {},
   "outputs": [],
   "source": [
    "tris = []\n",
    "lins = []\n",
    "\n",
    "njobs = len(tok)\n",
    "for index in find(tok):\n",
    "    t = triang.triangles[index]\n",
    "    c = category[index]\n",
    "    color = cmap[c%NC]\n",
    "    pp = np.array([triang.x[t],triang.y[t]]).T\n",
    "    p = plt.Polygon(pp,facecolor=color,edgecolor=color) ## PP is 3x2\n",
    "    tris.append(p)\n",
    "    if index%5==0:\n",
    "        sys.stdout.write('\\rTriangles prepared %0.1f%% '%((index+1)*100./njobs))\n",
    "        sys.stdout.flush()\n",
    "    \n",
    "ee = triang.edges\n",
    "ex = triang.x[ee]\n",
    "ey = triang.y[ee]\n",
    "dx = diff(ex,axis=1)\n",
    "dy = diff(ey,axis=1)\n",
    "dl = sqrt(dx*dx+dy*dy)\n",
    "eps = 1e-3\n",
    "unit = abs(dl-1)\n",
    "eok = unit<eps\n",
    "njobs = len(eok)\n",
    "for eindex in find(eok):\n",
    "    l = plt.Line2D(ex[eindex],ey[eindex],color='k',lw=1.5,antialiased=False)\n",
    "    lins.append(l)\n",
    "    if eindex%5==0:\n",
    "        sys.stdout.write('\\rEdges prepared %0.1f%%        '%((eindex+1)*100./njobs))\n",
    "        sys.stdout.flush()"
   ]
  },
  {
   "cell_type": "code",
   "execution_count": null,
   "metadata": {},
   "outputs": [],
   "source": [
    "fig = figure(figsize=(60,60))\n",
    "ax  = gca()    \n",
    "xlim(lima,limb)\n",
    "ylim(lima,limb)\n",
    "force_aspect()\n",
    "\n",
    "njobs = len(tok)\n",
    "for index,p in enumerate(tris):\n",
    "    ax.add_patch(p)\n",
    "    if index%5==0:\n",
    "        sys.stdout.write('\\rTriangles rendered %0.1f%% '%((index+1)*100./njobs))\n",
    "        sys.stdout.flush()\n",
    "\n",
    "njobs = len(eok)\n",
    "for eindex,l in enumerate(lins):\n",
    "    ax.add_line(l)\n",
    "    if eindex%5==0:\n",
    "        sys.stdout.write('\\rEdges rendered %0.1f%%        '%((eindex+1)*100./njobs))\n",
    "        sys.stdout.flush()\n",
    "\n",
    "sys.stdout.write('\\nShowing final result...\\n')\n",
    "sys.stdout.flush()\n",
    "plt.draw_all()"
   ]
  },
  {
   "cell_type": "code",
   "execution_count": null,
   "metadata": {},
   "outputs": [],
   "source": []
  }
 ],
 "metadata": {
  "kernelspec": {
   "display_name": "Python 3",
   "language": "python",
   "name": "python3"
  },
  "language_info": {
   "codemirror_mode": {
    "name": "ipython",
    "version": 3
   },
   "file_extension": ".py",
   "mimetype": "text/x-python",
   "name": "python",
   "nbconvert_exporter": "python",
   "pygments_lexer": "ipython3",
   "version": "3.5.2"
  }
 },
 "nbformat": 4,
 "nbformat_minor": 2
}
