{
 "cells": [
  {
   "cell_type": "code",
   "execution_count": 9,
   "metadata": {},
   "outputs": [],
   "source": [
    "%matplotlib inline\n",
    "from neurotools.nlab import *\n",
    "import os\n",
    "import struct"
   ]
  },
  {
   "cell_type": "code",
   "execution_count": 3,
   "metadata": {},
   "outputs": [
    {
     "data": {
      "text/plain": [
       "['q4-v1.png',\n",
       " 'q5-v2.xcf',\n",
       " 'q5-v4.png',\n",
       " 'Music.desktop',\n",
       " '20170807_notes_meeting_gerrit',\n",
       " 'Dropbox.desktop',\n",
       " 'DoubleClassLinux.tar.gz',\n",
       " 'DoubleClass.zip',\n",
       " 'q5.png',\n",
       " 'q5-v1.xcf',\n",
       " 'q4-v3.xcf',\n",
       " 'note to stuart',\n",
       " 'Workspace.desktop',\n",
       " 'q5-v4.xcf',\n",
       " 'q6-v1.xcf',\n",
       " 'Python.desktop',\n",
       " 'Terminal.desktop',\n",
       " 'q4.png',\n",
       " 'q4-v1_hueloop',\n",
       " '20170809_hacking_the_GIF_pallet.ipynb',\n",
       " 'q4-v1-animated.gif',\n",
       " 'index.html~',\n",
       " 'Moonbase.desktop',\n",
       " '090756971.pdf',\n",
       " 'Hobbies',\n",
       " 'DoubleClass',\n",
       " 'q6-v3-loop-small.xcf',\n",
       " 'q6.png',\n",
       " 'q6-v3.xcf',\n",
       " 'q6-v2_hueloop',\n",
       " 'DoubleClassLinux',\n",
       " '20170807_notes_meeting_gerrit~',\n",
       " 'herb allergies?~',\n",
       " 'q6-v3-loop-small.gif',\n",
       " 'q6-v3-loop.xcf',\n",
       " 'Github',\n",
       " 'q6-v2.png',\n",
       " 'q5-v4_hueloop',\n",
       " 'q6-v2.xcf',\n",
       " 'q4-v2.xcf',\n",
       " 'note to stuart~',\n",
       " 'q5-v4.gif',\n",
       " 'Dump.desktop',\n",
       " 'q5-v3.xcf',\n",
       " 'index.png',\n",
       " 'MRule_CV_August_2017.pdf',\n",
       " '.ipynb_checkpoints']"
      ]
     },
     "execution_count": 3,
     "metadata": {},
     "output_type": "execute_result"
    }
   ],
   "source": [
    "os.listdir('.')"
   ]
  },
  {
   "cell_type": "code",
   "execution_count": 4,
   "metadata": {
    "collapsed": true
   },
   "outputs": [],
   "source": [
    "fn = 'q5-v4.gif'\n",
    "Nhue      = 12\n",
    "huestart  = 2"
   ]
  },
  {
   "cell_type": "markdown",
   "metadata": {},
   "source": [
    "See http://www.matthewflickinger.com/lab/whatsinagif/bits_and_bytes.asp\n",
    "\n",
    "Objective is to permute GIF color pallet to perform a hue rotation / animation on a specially prepared input. We need only read as far as the color table.\n",
    "\n",
    "The input pallet used hsa 14 colors. The first two are shades of grey. The following 12 are a hue loop that we'd like to permute.\n",
    "\n",
    "We need to output a new file that is binary identitcal to the original, with the exception of the rotated subset of the color pallet."
   ]
  },
  {
   "cell_type": "code",
   "execution_count": 52,
   "metadata": {},
   "outputs": [],
   "source": [
    "# Blind copy sanity check\n",
    "outfile = \"sanity.gif\"\n",
    "with open(fn,'rb') as f:\n",
    "    with open(outfile,'wb') as fout:\n",
    "        fout.write(f.read())"
   ]
  },
  {
   "cell_type": "code",
   "execution_count": 59,
   "metadata": {},
   "outputs": [
    {
     "name": "stdout",
     "output_type": "stream",
     "text": [
      "2084 x 2084 GIF89a\n",
      "Global color table flag 1\n",
      "Color resolution 3\n",
      "Sort flag 1\n",
      "Size of global color table 3\n",
      "Background color index 14\n",
      "Pixel aspect ratio 0\n",
      "No. colors used   14\n",
      "No. colors stored 16\n",
      "Color 0 b'\\xfe\\xff\\xfc'\n",
      "Color 1 b'\\xa3\\xa3\\xa3'\n",
      "Color 2 b'\\xb8\\x1f\\xff'\n",
      "Color 3 b'kz\\xff'\n",
      "Color 4 b'\\x00\\xaa\\xff'\n",
      "Color 5 b'\\x00\\xd0\\xd1'\n",
      "Color 6 b'\\x00\\xd6m'\n",
      "Color 7 b'\\x93\\xd8\\x00'\n",
      "Color 8 b'\\xc9\\xd8\\x03'\n",
      "Color 9 b'\\xff\\xa9\\x0c'\n",
      "Color 10 b'\\xff\\x8d\\x00'\n",
      "Color 11 b'\\xffbB'\n",
      "Color 12 b'\\xf2\\x11\\xc5'\n",
      "Color 13 b'\\xdf\\x00\\xf2'\n",
      "Color 14 b'\\xff\\x00\\xff'\n",
      "Color 15 b'\\xff\\x00\\xff'\n",
      "Saved q5-v4_rotate_0.gif\n",
      "Saved q5-v4_rotate_1.gif\n",
      "Saved q5-v4_rotate_2.gif\n",
      "Saved q5-v4_rotate_3.gif\n",
      "Saved q5-v4_rotate_4.gif\n",
      "Saved q5-v4_rotate_5.gif\n",
      "Saved q5-v4_rotate_6.gif\n",
      "Saved q5-v4_rotate_7.gif\n",
      "Saved q5-v4_rotate_8.gif\n",
      "Saved q5-v4_rotate_9.gif\n",
      "Saved q5-v4_rotate_10.gif\n",
      "Saved q5-v4_rotate_11.gif\n"
     ]
    }
   ],
   "source": [
    "with open(fn, \"rb\") as f:\n",
    "\n",
    "    # Get header and extract and print flags, fields, etc\n",
    "    header = f.read(13)\n",
    "    form = header[0:][:6].decode('ascii')\n",
    "    w = struct.unpack(\"H\",header[6:][:2])[0]\n",
    "    h = struct.unpack(\"H\",header[8:][:2])[0]\n",
    "    print('%d x %d %s'%(w,h,form))\n",
    "    flags = struct.unpack(\"B\",header[10:][:1])[0]\n",
    "    bgci  = struct.unpack(\"B\",header[11:][:1])[0]\n",
    "    pasp  = struct.unpack(\"B\",header[12:][:1])[0]\n",
    "    gcts  = flags&0b00000111\n",
    "    sort  = flags&0b00001000>>3\n",
    "    cres  = flags&0b01110000>>4\n",
    "    gctf  = flags&0b10000000>>7\n",
    "    print('Global color table flag',gctf)\n",
    "    print('Color resolution',cres)\n",
    "    print('Sort flag',sort)\n",
    "    print('Size of global color table',gcts)\n",
    "    print('Background color index',bgci) # No. Colors?\n",
    "    print('Pixel aspect ratio',pasp)\n",
    "\n",
    "    # Get color pallet information\n",
    "    Ncolors = 2**(gcts+1)\n",
    "    print('No. colors used  ',bgci)\n",
    "    print('No. colors stored',Ncolors)\n",
    "    colordata = []\n",
    "    for i in range(Ncolors):\n",
    "        RGB = f.read(3)\n",
    "        print('Color %d'%i,RGB)\n",
    "        colordata+=[[RGB]]\n",
    "    \n",
    "    # get remainder of file\n",
    "    imagedata = f.read()\n",
    "\n",
    "colordata = array(colordata)\n",
    "hues      = array(colordata[huestart:huestart+Nhue])\n",
    "\n",
    "# now open an output file and do the rotation(s)\n",
    "basename = '.'.join(fn.split('.')[:-1])\n",
    "for i in range(Nhue):\n",
    "    fout  = basename+'_rotate_%d.gif'%i\n",
    "    colordata[huestart:huestart+Nhue] = np.roll(hues,i,axis=0)    \n",
    "    with open(fout,\"wb\") as f:\n",
    "        f.write(header)\n",
    "        f.write(colordata)\n",
    "        f.write(imagedata)\n",
    "    print('Saved',fout)"
   ]
  },
  {
   "cell_type": "code",
   "execution_count": null,
   "metadata": {
    "collapsed": true
   },
   "outputs": [],
   "source": []
  }
 ],
 "metadata": {
  "kernelspec": {
   "display_name": "Python 3",
   "language": "python",
   "name": "python3"
  },
  "language_info": {
   "codemirror_mode": {
    "name": "ipython",
    "version": 3
   },
   "file_extension": ".py",
   "mimetype": "text/x-python",
   "name": "python",
   "nbconvert_exporter": "python",
   "pygments_lexer": "ipython3",
   "version": "3.5.2"
  }
 },
 "nbformat": 4,
 "nbformat_minor": 2
}
